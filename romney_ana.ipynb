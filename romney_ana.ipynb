{
 "cells": [
  {
   "cell_type": "code",
   "execution_count": 1,
   "metadata": {
    "scrolled": false
   },
   "outputs": [
    {
     "name": "stderr",
     "output_type": "stream",
     "text": [
      "Using TensorFlow backend.\n"
     ]
    }
   ],
   "source": [
    "import numpy as np\n",
    "import pandas as pd\n",
    "import globl\n",
    "import re\n",
    "import sklearn\n",
    "from sklearn.pipeline import Pipeline\n",
    "from sklearn import svm\n",
    "from sklearn.feature_extraction.text import CountVectorizer\n",
    "from sklearn.ensemble import RandomForestClassifier\n",
    "from sklearn.metrics import f1_score,accuracy_score,recall_score\n",
    "from sklearn.metrics import precision_score\n",
    "from sklearn.metrics import classification_report\n",
    "from sklearn.metrics import confusion_matrix\n",
    "from sklearn.naive_bayes import MultinomialNB\n",
    "from sklearn.linear_model import SGDClassifier\n",
    "from KaggleWord2VecUtility import KaggleWord2VecUtility\n",
    "from sklearn.feature_extraction.text import TfidfVectorizer\n",
    "from sklearn.feature_extraction.text import TfidfTransformer\n",
    "from nltk import bigrams\n",
    "from sklearn.linear_model import LogisticRegression, SGDClassifier,Lasso\n",
    "from sklearn.ensemble import RandomForestClassifier,ExtraTreesClassifier\n",
    "import xgboost as xgb\n",
    "import lightgbm as lgbm\n",
    "from nltk.corpus import wordnet\n",
    "from keras import optimizers\n",
    "from sklearn.pipeline import Pipeline, FeatureUnion\n",
    "from sklearn.preprocessing import FunctionTransformer\n",
    "from sklearn.feature_selection import SelectFromModel\n",
    "from sklearn.ensemble import ExtraTreesClassifier\n",
    "from sklearn.linear_model import LassoCV\n",
    "from sklearn.decomposition import PCA\n",
    "from sklearn.feature_selection import RFE\n",
    "from sklearn.feature_selection import SelectKBest\n",
    "from sklearn.feature_selection import chi2\n",
    "\n",
    "\n",
    "data1= pd.read_csv('/home/pramod/testingconcat.csv')\n",
    "\n",
    "d = {'date': data1[\"date\"], 'tweet': data1[\"Anootated tweet\"],'Class': data1[\"Class\"]}\n",
    "data = pd.DataFrame(data=d)\n",
    "\n",
    "clean_train_reviews = []\n",
    "\n",
    "for i in xrange(0,len(data)):\n",
    "    clean_train_reviews.append(\" \".join(KaggleWord2VecUtility.review_to_wordlist(data[\"tweet\"][i],False,True,False,False)))\n",
    "\n",
    "\n",
    "\n"
   ]
  },
  {
   "cell_type": "code",
   "execution_count": 2,
   "metadata": {},
   "outputs": [],
   "source": [
    "entity=[]\n",
    "for review in clean_train_reviews:\n",
    "    entity.append(\" \".join(KaggleWord2VecUtility.useless(review)))\n",
    "\n",
    "    \n",
    "train= entity[0:10219]\n",
    "test= entity[10220:]"
   ]
  },
  {
   "cell_type": "code",
   "execution_count": 3,
   "metadata": {},
   "outputs": [],
   "source": [
    "text_clf = Pipeline([('vect', TfidfVectorizer(ngram_range=(1,5),min_df=1,strip_accents='unicode')),\n",
    "                     #('feature_selection', SelectFromModel(svm.LinearSVC(penalty=\"l1\",dual=False))),\n",
    "                     #('feature_selection', SelectFromModel(RandomForestClassifier())),\n",
    "                     ('clf', svm.LinearSVC())\n",
    "                    ])\n",
    "\n",
    "\n",
    "text_clf = text_clf.fit(train,data[\"Class\"][0:len(train)])\n"
   ]
  },
  {
   "cell_type": "code",
   "execution_count": 5,
   "metadata": {
    "scrolled": true
   },
   "outputs": [
    {
     "name": "stdout",
     "output_type": "stream",
     "text": [
      "             precision    recall  f1-score   support\n",
      "\n",
      "         -1       0.71      0.74      0.73       588\n",
      "          0       0.46      0.45      0.46       248\n",
      "          1       0.57      0.51      0.54       216\n",
      "\n",
      "avg / total       0.62      0.63      0.62      1052\n",
      "\n"
     ]
    }
   ],
   "source": [
    "#vocab= text_clf.named_steps['vect'].vocabulary_\n",
    "from sklearn import model_selection\n",
    "from sklearn.metrics import make_scorer, accuracy_score, precision_score, recall_score, f1_score\n",
    "from sklearn.model_selection import cross_validate\n",
    "from sklearn.model_selection import StratifiedKFold\n",
    "from sklearn.model_selection import ShuffleSplit\n",
    "from sklearn.model_selection import cross_val_predict\n",
    "from sklearn.metrics import classification_report\n",
    "\n",
    "y_pred=text_clf.predict(test)\n",
    "\n",
    "print(classification_report(data[\"Class\"][10220:], y_pred))"
   ]
  },
  {
   "cell_type": "code",
   "execution_count": 6,
   "metadata": {},
   "outputs": [],
   "source": [
    "data3 = pd.read_excel('/home/pramod/Downloads/Romney.xlsx')\n",
    "tweets=np.array(pd.DataFrame(data3[\"tweet\"]))\n",
    "\n",
    "\n",
    "clean_test = []\n",
    "\n",
    "for i in xrange(0,len(tweets)):\n",
    "    clean_test.append(\" \".join(KaggleWord2VecUtility.review_to_wordlist(tweets[i],False,True,False,False)))\n",
    "\n",
    "entity_test=[]\n",
    "for review in clean_test:\n",
    "    entity_test.append(\" \".join(KaggleWord2VecUtility.useless(review)))\n",
    "\n",
    "\n",
    "test_labels=text_clf.predict(entity_test)\n",
    "test_labels=pd.DataFrame(test_labels)\n",
    "#print test_labels\n",
    "test_labels.to_csv('final_labels/entity_final.csv', encoding='utf-8', index=False,header=None)"
   ]
  },
  {
   "cell_type": "code",
   "execution_count": null,
   "metadata": {
    "collapsed": true
   },
   "outputs": [],
   "source": []
  },
  {
   "cell_type": "code",
   "execution_count": null,
   "metadata": {
    "collapsed": true
   },
   "outputs": [],
   "source": []
  },
  {
   "cell_type": "code",
   "execution_count": null,
   "metadata": {
    "collapsed": true
   },
   "outputs": [],
   "source": []
  },
  {
   "cell_type": "code",
   "execution_count": null,
   "metadata": {
    "collapsed": true
   },
   "outputs": [],
   "source": []
  },
  {
   "cell_type": "code",
   "execution_count": null,
   "metadata": {
    "collapsed": true
   },
   "outputs": [],
   "source": []
  },
  {
   "cell_type": "code",
   "execution_count": null,
   "metadata": {
    "collapsed": true
   },
   "outputs": [],
   "source": []
  }
 ],
 "metadata": {
  "kernelspec": {
   "display_name": "Python 2",
   "language": "python",
   "name": "python2"
  },
  "language_info": {
   "codemirror_mode": {
    "name": "ipython",
    "version": 2
   },
   "file_extension": ".py",
   "mimetype": "text/x-python",
   "name": "python",
   "nbconvert_exporter": "python",
   "pygments_lexer": "ipython2",
   "version": "2.7.14"
  }
 },
 "nbformat": 4,
 "nbformat_minor": 2
}
