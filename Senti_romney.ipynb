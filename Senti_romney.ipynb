{
 "cells": [
  {
   "cell_type": "code",
   "execution_count": null,
   "metadata": {
    "collapsed": true
   },
   "outputs": [],
   "source": [
    "import nltk\n",
    "#nltk.download()"
   ]
  },
  {
   "cell_type": "code",
   "execution_count": null,
   "metadata": {
    "scrolled": true
   },
   "outputs": [],
   "source": [
    "import numpy as np\n",
    "import pandas as pd\n",
    "import re\n",
    "import sklearn\n",
    "from sklearn.pipeline import Pipeline\n",
    "from sklearn import svm\n",
    "from sklearn.feature_extraction.text import CountVectorizer\n",
    "from sklearn.ensemble import RandomForestClassifier\n",
    "from sklearn.metrics import f1_score,accuracy_score,recall_score\n",
    "from sklearn.metrics import precision_score\n",
    "from sklearn.metrics import classification_report\n",
    "from sklearn.metrics import confusion_matrix\n",
    "from sklearn.naive_bayes import MultinomialNB\n",
    "from sklearn.linear_model import SGDClassifier\n",
    "from KaggleWord2VecUtility import KaggleWord2VecUtility\n",
    "from sklearn.feature_extraction.text import TfidfVectorizer\n",
    "from sklearn.feature_extraction.text import TfidfTransformer\n",
    "from nltk import bigrams\n",
    "from sklearn.linear_model import LogisticRegression, SGDClassifier\n",
    "from sklearn.ensemble import RandomForestClassifier,ExtraTreesClassifier\n",
    "import xgboost as xgb\n",
    "import lightgbm as lgbm\n",
    "\n",
    "\n",
    "path = \"/home/pramod/Downloads/temp/romneycsv.csv\"\n",
    "data2= pd.read_csv(path)\n",
    "\n",
    "data2 = data2.drop(data2.query('Class!=\"1\" & Class!=\"-1\" & Class!=\"0\"').index)\n",
    "\n",
    "data2.to_csv('/home/pramod/Downloads/temp/romneyupdate.csv', index=False)\n",
    "\n",
    "data= pd.read_csv('/home/pramod/Downloads/temp/romneyupdate.csv')\n",
    "\n",
    "clean_train_reviews = []\n",
    "#bigramFeatureVector = []\n",
    "train_data_features2=[]\n",
    "\n",
    "for i in xrange(0,len(data)):\n",
    "    clean_train_reviews.append(\" \".join(KaggleWord2VecUtility.review_to_wordlist(data[\"Anootated tweet\"][i], False,True,False,False)))\n",
    "\n",
    "text_clf = Pipeline([('vect', TfidfVectorizer(min_df=2)),\n",
    "                     #('tfidf', TfidfTransformer()),\n",
    "                     ('clf', LogisticRegression())\n",
    "                    ])\n",
    "text_clf = text_clf.fit(clean_train_reviews,data[\"Class\"][0:len(data)])\n"
   ]
  },
  {
   "cell_type": "code",
   "execution_count": null,
   "metadata": {
    "collapsed": true
   },
   "outputs": [],
   "source": []
  },
  {
   "cell_type": "code",
   "execution_count": null,
   "metadata": {},
   "outputs": [],
   "source": [
    "#vocab= text_clf.named_steps['vect'].vocabulary_\n",
    "from sklearn import model_selection\n",
    "from sklearn.metrics import make_scorer, accuracy_score, precision_score, recall_score, f1_score\n",
    "from sklearn.model_selection import cross_validate\n",
    "from sklearn.model_selection import StratifiedKFold\n",
    "from sklearn.model_selection import ShuffleSplit\n",
    "from sklearn.model_selection import cross_val_predict\n",
    "from sklearn.metrics import classification_report\n",
    "\n",
    "cv = ShuffleSplit(n_splits=10, test_size=0.2)\n",
    "\n",
    "y_pred=cross_val_predict(estimator=text_clf, X=clean_train_reviews, y=data[\"Class\"][0:len(data)],cv=StratifiedKFold(10))\n",
    "\n",
    "print(classification_report(data[\"Class\"][0:len(data)], y_pred))"
   ]
  },
  {
   "cell_type": "code",
   "execution_count": 9,
   "metadata": {
    "scrolled": true
   },
   "outputs": [
    {
     "name": "stdout",
     "output_type": "stream",
     "text": [
      "new\n",
      "average f1 score\n",
      "0.584222365937\n",
      "average precision score\n",
      "0.590104154556\n",
      "average recall score\n",
      "0.599646017699\n",
      "average accuracy score\n",
      "0.599646017699\n",
      "final\n",
      "{'train_precision_micro': array([ 0.98959871,  0.98694025,  0.98806225,  0.98739863,  0.98827968,\n",
      "        0.98828097,  0.98894679,  0.98782118,  0.98827581,  0.98871843]), 'score_time': array([ 0.48813987,  0.44012094,  0.43814707,  0.36370611,  0.31531501,\n",
      "        0.3246491 ,  0.31779504,  0.32025409,  0.32091403,  0.32044506]), 'fit_time': array([ 2.04348493,  2.01065302,  1.79860592,  1.29536891,  1.2380569 ,\n",
      "        1.27325392,  1.24957609,  1.2774179 ,  1.24117494,  1.25316095]), 'train_f1_micro': array([ 0.98958669,  0.98692257,  0.98802786,  0.98736032,  0.98824681,\n",
      "        0.98825292,  0.98891427,  0.98781253,  0.98825308,  0.98869359]), 'test_f1_micro': array([ 0.5770043 ,  0.59552316,  0.59856052,  0.59452063,  0.55693054,\n",
      "        0.58404699,  0.56246313,  0.58499927,  0.60581056,  0.58236456]), 'test_recall_micro': array([ 0.58495575,  0.61238938,  0.61327434,  0.61327434,  0.57699115,\n",
      "        0.59557522,  0.57964602,  0.60176991,  0.62035398,  0.59823009]), 'test_accuracy_micro': array([ 0.58495575,  0.61238938,  0.61327434,  0.61327434,  0.57699115,\n",
      "        0.59557522,  0.57964602,  0.60176991,  0.62035398,  0.59823009]), 'test_precision_micro': array([ 0.57873962,  0.60414117,  0.60982007,  0.60018676,  0.56328187,\n",
      "        0.5855001 ,  0.56650962,  0.59351078,  0.61073251,  0.58861905]), 'train_recall_micro': array([ 0.98959486,  0.98693823,  0.98804516,  0.98738101,  0.98826655,\n",
      "        0.98826655,  0.98893071,  0.98782378,  0.98826655,  0.98870932]), 'train_accuracy_micro': array([ 0.98959486,  0.98693823,  0.98804516,  0.98738101,  0.98826655,\n",
      "        0.98826655,  0.98893071,  0.98782378,  0.98826655,  0.98870932])}\n"
     ]
    }
   ],
   "source": [
    "from sklearn import model_selection\n",
    "from sklearn.metrics import make_scorer, accuracy_score, precision_score, recall_score, f1_score\n",
    "from sklearn.model_selection import cross_validate\n",
    "from sklearn.model_selection import StratifiedKFold\n",
    "from sklearn.model_selection import ShuffleSplit\n",
    "from sklearn.model_selection import cross_val_score\n",
    "from sklearn.metrics import classification_report\n",
    "\n",
    "def classification_report_with_accuracy_score(y_true, y_pred):\n",
    "\n",
    "    print classification_report(y_true, y_pred) # print classification report\n",
    "    return accuracy_score(y_true, y_pred) # return accuracy score\n",
    "\n",
    "scoring = {'accuracy_micro' : make_scorer(accuracy_score), \n",
    "           'precision_micro' : make_scorer(precision_score,average=\"weighted\"),\n",
    "           'recall_micro' : make_scorer(recall_score,average=\"weighted\"), \n",
    "           'f1_micro' : make_scorer(f1_score,average=\"weighted\")}\n",
    "          #'report': make_scorer(classification_report_with_accuracy_score)}\n",
    "\n",
    "#kfold1 = model_selection.StratifiedKFold(n_splits=10, random_state=42)\n",
    "cv = ShuffleSplit(n_splits=10, test_size=0.2)\n",
    "\n",
    "\n",
    "results = cross_validate(estimator=text_clf,X=clean_train_reviews,\n",
    "                         y=data[\"Class\"][0:len(data)],cv=cv,scoring=scoring)\n",
    "\n",
    "\n",
    "\n",
    "print \"new\"\n",
    "print \"average f1 score\"\n",
    "print np.mean(results['test_f1_micro'])\n",
    "print \"average precision score\"\n",
    "print np.mean(results['test_precision_micro'])\n",
    "print \"average recall score\"\n",
    "print np.mean(results['test_recall_micro'])\n",
    "print \"average accuracy score\"\n",
    "print np.mean(results['test_accuracy_micro'])\n",
    "print \"final\"\n",
    "print results"
   ]
  },
  {
   "cell_type": "markdown",
   "metadata": {
    "collapsed": true
   },
   "source": []
  },
  {
   "cell_type": "code",
   "execution_count": 15,
   "metadata": {},
   "outputs": [
    {
     "name": "stdout",
     "output_type": "stream",
     "text": [
      "             precision    recall  f1-score   support\n",
      "\n",
      "         -1       0.62      0.77      0.69      2893\n",
      "          0       0.45      0.37      0.41      1679\n",
      "          1       0.60      0.38      0.47      1075\n",
      "\n",
      "avg / total       0.57      0.58      0.56      5647\n",
      "\n"
     ]
    }
   ],
   "source": []
  },
  {
   "cell_type": "code",
   "execution_count": null,
   "metadata": {
    "collapsed": true
   },
   "outputs": [],
   "source": []
  },
  {
   "cell_type": "code",
   "execution_count": 5,
   "metadata": {},
   "outputs": [
    {
     "name": "stdout",
     "output_type": "stream",
     "text": [
      "['my', 'naame', \"isn't\", 'relevant', 'here', 'but', 'doing', 'something', 'is', 'exhausting']\n",
      "['my', u'naam', u\"isn't\", u'relev', 'here', 'but', u'do', u'someth', 'is', u'exhaust']\n"
     ]
    }
   ],
   "source": [
    "import nltk\n",
    "from nltk.corpus import stopwords\n",
    "from nltk.corpus import stopwords\n",
    "from nltk.tokenize import word_tokenize\n",
    "from nltk.tokenize import TweetTokenizer\n",
    "from nltk.stem.porter import *\n",
    "from nltk.stem.snowball import SnowballStemmer\n",
    "from nltk.stem.lancaster import LancasterStemmer\n",
    "\n",
    "\n",
    "ps=PorterStemmer()\n",
    "lanc=LancasterStemmer()\n",
    "lemma = nltk.wordnet.WordNetLemmatizer()\n",
    "sno=SnowballStemmer(\"english\", ignore_stopwords=True)\n",
    "words=[]\n",
    "text=\"my nAAme isn't relevant here but doing something is exhausting\"\n",
    "words = text.lower().split()\n",
    "print words\n",
    "words=[sno.stem(words) for words in words]\n",
    "x=[ps.stem(words) for words in words]\n",
    "\n",
    "\n",
    "print x\n"
   ]
  },
  {
   "cell_type": "code",
   "execution_count": 10,
   "metadata": {},
   "outputs": [
    {
     "name": "stdout",
     "output_type": "stream",
     "text": [
      "pramod mit mitt tl love loves can ad canada\n"
     ]
    }
   ],
   "source": [
    "a=[]\n",
    "def wordBreak( s, dict):\n",
    "        segmented = [True];\n",
    "        for i in range (0, len(s)):\n",
    "            segmented.append(False)\n",
    "            for j in range(i,-1,-1):\n",
    "                if segmented[j] and s[j:i+1] in dict:\n",
    "                    #print segmented[j]\n",
    "                    #print s[j:i+1]\n",
    "                    a.append(s[j:i+1])\n",
    "                    segmented[i+1] = True\n",
    "                    break\n",
    "        if segmented[len(s)]:\n",
    "            return a\n",
    "p=\"pramod\"\n",
    "s=\"mittlovescanada\"\n",
    "dict = text_clf.named_steps['vect'].vocabulary_\n",
    "a=' '.join(wordBreak(s,dict))\n",
    "print p,a"
   ]
  },
  {
   "cell_type": "code",
   "execution_count": 3,
   "metadata": {},
   "outputs": [
    {
     "name": "stdout",
     "output_type": "stream",
     "text": [
      "{u'four': 1268, u'lord': 1915, u'bringing': 424, u'romneys': 2827, u'reutersipsos': 2766, u'tired': 3393, u'mail': 1953, u'elections': 1016, u'second': 2920, u'sesame': 2963, u'cooking': 699, u'cars': 511, u'increasing': 1638, u'reporter': 2731, u'lolyou': 1900, u'interrupting': 1673, u'here': 1488, u'lgbt': 1847, u'china': 568, u'kids': 1759, u'romneye': 2815, u'reports': 2734, u'military': 2043, u'magically': 1952, u'explained': 1108, u'replace': 2725, u'brought': 433, u'cheating': 553, u'spoke': 3132, u'dnc': 913, u'dnt': 914, u'strike': 3210, u'until': 3533, u'females': 1177, u'holy': 1533, u'successful': 3233, u'brings': 425, u'yahoo': 3762, u'hurt': 1579, u'morningjoe': 2107, u'hold': 1529, u'morally': 2097, u'example': 1090, u'currency': 764, u'want': 3617, u'hoe': 1524, u'complaining': 648, u'machine': 1945, u'how': 1561, u'hop': 1546, u'wrong': 3754, u'types': 3496, u'effective': 1007, u'wins': 3706, u'cigarettes': 581, u'keeps': 1750, u'democratic': 841, u'wing': 3703, u'wind': 3699, u'wine': 3702, u'__': 0, u'partnered': 2345, u'fit': 1207, u'fix': 1210, u'hidden': 1495, u'easier': 988, u'vouchers': 3596, u'interrupt': 1671, u'yourself': 3786, u'structural': 3215, u'represents': 2736, u'romneybot': 2809, u'financial': 1195, u'series': 2957, u'romneywinning': 2834, u'rt': 2853, u'trending': 3444, u'rr': 2852, u'smirk': 3069, u'rd': 2651, u're': 2652, u'encourage': 1036, u'smh': 3066, u'ro': 2793, u'romneysaid': 2828, u'foundation': 1266, u'sheet': 2984, u'stacy': 3139, u'ate': 203, u'shipped': 2990, u'medicaid': 2009, u'loool': 1911, u'wash': 3630, u'service': 2962, u'touting': 3420, u'needed': 2171, u'master': 1988, u'bitter': 354, u'listen': 1881, u'lobbyists': 1893, u'showed': 3008, u'coward': 729, u'feeling': 1169, u'boston': 399, u'responsible': 2754, u'even': 1072, u'huh': 1570, u'doin': 923, u'mouth': 2115, u'letter': 1843, u'professor': 2561, u'camp': 481, u'tech': 3309, u'came': 479, u'saying': 2889, u'bomb': 387, u'advisors': 53, u'sexist': 2972, u'somerhalder': 3093, u'sexism': 2971, u'busy': 462, u'headline': 1466, u'bush': 455, u'bliss': 368, u'rick': 2778, u'rich': 2775, u'pocket': 2450, u'altogether': 102, u'tips': 3392, u'unfortunately': 3518, u'preemptively': 2515, u'release': 2706, u'respond': 2749, u'fair': 1135, u'goodnight': 1365, u'fail': 1130, u'hammer': 1432, u'best': 315, u'lots': 1923, u'stamps': 3144, u'never': 2179, u'schooled': 2906, u'cards': 504, u'wtf': 3757, u'debt': 808, u'reported': 2730, u'country': 721, u'planned': 2429, u'logic': 1896, u'argue': 168, u'asked': 188, u'irresponsible': 1692, u'binders': 341, u'union': 3520, u'much': 2130, u'pro': 2549, u'life': 1859, u'worker': 3733, u'wish': 3709, u'substance': 3231, u'child': 564, u'mrpresident': 2122, u'worked': 3732, u'votin': 3593, u'chill': 567, u'presidency': 2527, u'bin': 337, u'played': 2437, u'trusted': 3458, u'credit': 745, u'things': 3353, u'babies': 234, u'flipflops': 1224, u'marched': 1977, u'blaming': 361, u'corporate': 706, u'opinions': 2290, u'letterman': 1844, u'fantastic': 1147, u'had': 1421, u'easy': 991, u'has': 1453, u'possible': 2486, u'possibly': 2487, u'bushs': 456, u'birth': 347, u'misled': 2064, u'steps': 3178, u'right': 2783, u'old': 2272, u'crowd': 755, u'people': 2374, u'creep': 746, u'for': 1248, u'bottom': 401, u'fox': 1269, u'creative': 742, u'contributing': 692, u'frum': 1284, u'umm': 3502, u'binder': 339, u'defensive': 832, u'losing': 1919, u'manufacturing': 1972, u'dollars': 926, u'citizens': 585, u'excellent': 1091, u'match': 1990, u'raised': 2630, u'statements': 3162, u'son': 3097, u'soon': 3100, u'support': 3248, u'raped': 2642, u'absolutely': 9, u'call': 473, u'happy': 1447, u'offer': 2255, u'handily': 1438, u'lays': 1814, u'later': 1799, u'liberal': 1850, u'exist': 1099, u'floor': 1228, u'actor': 30, u'role': 2800, u'smell': 3065, u'roll': 2801, u'invested': 1679, u'rolling': 2802, u'time': 3389, u'push': 2605, u'whoever': 3685, u'chair': 532, u'muppet': 2132, u'baller': 251, u'veterans': 3561, u'eliminate': 1020, u'jerk': 1717, u'choice': 571, u'lrt': 1934, u'stays': 3168, u'exact': 1087, u'minute': 2057, u'townhalldebate': 3426, u'leave': 1829, u'settle': 2966, u'team': 3303, u'insignificant': 1653, u'attic': 213, u'prediction': 2513, u'sign': 3020, u'current': 765, u'ground': 1398, u'boost': 393, u'understanding': 3512, u'address': 37, u'alone': 95, u'along': 96, u'brilliant': 422, u'studies': 3221, u'love': 1925, u'prefer': 2517, u'fake': 1137, u'sky': 3045, u'opposes': 2295, u'working': 3735, u'positive': 2485, u'angry': 124, u'opposed': 2294, u'wondering': 3725, u'afford': 55, u'ignorant': 1598, u'honey': 1541, u'pretend': 2535, u'abortion': 4, u'values': 3556, u'believed': 303, u'awesome': 228, u'romneyhe': 2820, u'hides': 1497, u'allowed': 92, u'offense': 2253, u'stole': 3190, u'drama': 953, u'slush': 3061, u'date': 788, u'such': 3234, u'suck': 3235, u'bainport': 245, u'revealed': 2769, u'conscious': 671, u'ss': 3135, u'st': 3136, u'so': 3076, u'pulled': 2593, u'years': 3769, u'hiring': 1513, u'kanye': 1745, u'torn': 3414, u'hot': 1555, u'bipartisan': 343, u'decades': 810, u'recipients': 2679, u'nation': 2157, u'records': 2681, u'lowkey': 1932, u'sexually': 2973, u'minority': 2056, u'brags': 410, u'sniveling': 3074, u'seriously': 2959, u'blk': 369, u'internet': 1670, u'suggesting': 3241, u'million': 2045, u'governing': 1375, u'quite': 2620, u'disrespect': 909, u'grandma': 1384, u'___': 1, u'dunno': 976, u'punk': 2597, u'massive': 1987, u'saving': 2886, u'reveals': 2770, u'petulant': 2393, u'one': 2278, u'oped': 2285, u'vote': 3585, u'open': 2286, u'city': 586, u'bite': 353, u'gyllenhaal': 1418, u'draft': 950, u'surges': 3261, u'ridiculous': 2781, u'fooled': 1246, u'emptychair': 1035, u'future': 1302, u'russia': 2869, u'turned': 3475, u'argument': 170, u'sad': 2873, u'woah': 3718, u'say': 2888, u'buried': 451, u'foiled': 1236, u'saw': 2887, u'sat': 2882, u'warriors': 3627, u'note': 2213, u'take': 3280, u'destroy': 861, u'capitalist': 501, u'knew': 1772, u'immigration': 1620, u'remarks': 2716, u'lawn': 1811, u'lawd': 1810, u'average': 222, u'phil': 2395, u'sale': 2877, u'federal': 1166, u'link': 1877, u'laws': 1812, u'walking': 3610, u'bright': 421, u'inconsistent': 1635, u'aggressive': 68, u'going': 1358, u'pimp': 2413, u'artist': 183, u'borrow': 397, u'worries': 3740, u'where': 3673, u'vision': 3579, u'ur': 3545, u'jobs': 1724, u'awards': 226, u'jets': 1720, u'mans': 1971, u'many': 1973, u'millionaire': 2046, u'flipped': 1225, u'deduction': 823, u'workplace': 3736, u'mccain': 2001, u'anti': 138, u'comeback': 629, u'caring': 510, u'west': 3665, u'wants': 3620, u'consultant': 680, u'polls': 2470, u'policies': 2458, u'situation': 3038, u'ive': 1706, u'thatll': 3334, u'bros': 430, u'blah': 358, u'romneybain': 2807, u'rooting': 2844, u'homophobic': 1538, u'gingrich': 1338, u'tracking': 3431, u'know': 1775, u'costs': 711, u'morons': 2109, u'being': 299, u'rest': 2755, u'schools': 2908, u'townhall': 3425, u'excuses': 1096, u'color': 624, u'starving': 3158, u'around': 176, u'world': 3738, u'vague': 3554, u'stopthemadness': 3198, u'intel': 1661, u'borowitz': 396, u'arrested': 178, u'lebanon': 1832, u'thinks': 3357, u'virginia': 3578, u'destroys': 864, u'biased': 321, u'power': 2494, u'leadership': 1819, u'went': 3662, u'stone': 3192, u'ace': 22, u'industry': 1646, u'favorite': 1159, u'act': 25, u'mean': 2003, u'fundraising': 1297, u'informed': 1648, u'image': 1613, u'homeless': 1535, u'parties': 2344, u'wade': 3601, u'gtgt': 1406, u'her': 1487, u'hes': 1493, u'hey': 1494, u'sealed': 2917, u'slopes': 3058, u'complete': 649, u'with': 3711, u'buying': 467, u'abused': 12, u'pull': 2592, u'rush': 2868, u'october': 2247, u'dirty': 891, u'politically': 2462, u'agree': 70, u'detailed': 866, u'gone': 1361, u'ad': 35, u'mittlies': 2075, u'certain': 530, u'stealing': 3170, u'am': 104, u'al': 85, u'an': 117, u'ap': 148, u'tshirt': 3467, u'at': 202, u'walks': 3612, u'watched': 3637, u'cream': 736, u'mormans': 2102, u'tight': 3387, u'hofstra': 1527, u'puppy': 2599, u'congress': 667, u'romneywrongamerica': 2837, u'hello': 1480, u'fraudulent': 1275, u'mass': 1985, u'mayans': 1999, u'consider': 674, u'caused': 520, u'welfare': 3660, u'tx': 3493, u'laughing': 1806, u'riots': 2788, u'to': 3396, u'tl': 3394, u'th': 3329, u'tf': 3328, u'smile': 3067, u'case': 512, u'results': 2758, u'moines': 2086, u'large': 1796, u'pesky': 2391, u'unwraps': 3536, u'small': 3063, u'past': 2352, u'pass': 2348, u'investment': 1681, u'richard': 2776, u'section': 2926, u'undecided': 3507, u'baincapital': 244, u'full': 1292, u'hours': 1557, u'palin': 2330, u'november': 2219, u'experience': 1105, u'pics': 2406, u'prior': 2543, u'pick': 2404, u'action': 28, u'via': 3565, u'followed': 1239, u'young': 3781, u'objectives': 2237, u'romneyyou': 2838, u'kick': 1755, u'more': 2099, u'door': 938, u'company': 644, u'corrected': 709, u'keeping': 1749, u'lilly': 1871, u'science': 2909, u'sent': 2953, u'morgan': 2100, u'learn': 1826, u'beautiful': 284, u'scam': 2891, u'stated': 3160, u'accept': 13, u'states': 3163, u'biden': 324, u'salty': 2879, u'sense': 2952, u'gallon': 1310, u'dress': 958, u'garden': 1316, u'huge': 1569, u'plant': 2432, u'plans': 2431, u'plane': 2427, u'refuse': 2693, u'register': 2696, u'teamromney': 3307, u'mexican': 2031, u'itd': 1701, u'trade': 3432, u'attitude': 214, u'paper': 2334, u'scott': 2911, u'signs': 3025, u'its': 1703, u'lybia': 1940, u'entire': 1052, u'propose': 2575, u'everytime': 1080, u'always': 103, u'found': 1265, u'shocking': 2998, u'romneydo': 2813, u'reduce': 2684, u'tonite': 3406, u'really': 2666, u'missed': 2066, u'blacks': 357, u'research': 2743, u'hood': 1543, u'belief': 300, u'imagine': 1615, u'definition': 835, u'predebate': 2510, u'bumper': 448, u'girls': 1340, u'number': 2223, u'heads': 1467, u'relationship': 2705, u'govromney': 1379, u'immediate': 1617, u'grace': 1381, u'obama': 2233, u'defends': 830, u'marriage': 1981, u'bho': 319, u'sell': 2940, u'self': 2938, u'also': 99, u'play': 2436, u'plan': 2425, u'understands': 3513, u'seize': 2936, u'sometimes': 3095, u'attacking': 209, u'ugh': 3499, u'golf': 1359, u'stickingits': 3185, u'failed': 1131, u'equity': 1061, u'jansingco': 1711, u'banner': 263, u'cry': 760, u'bird': 345, u'pinocchios': 2416, u'insane': 1650, u'ryanromney': 2871, u'set': 2964, u'creator': 743, u'sex': 2970, u'see': 2928, u'sen': 2942, u'dbate': 793, u'knees': 1771, u'movie': 2118, u'currently': 766, u'eromneys': 1064, u'nope': 2207, u'incident': 1630, u'legislature': 1838, u'last': 1798, u'barely': 269, u'poverty': 2492, u'approve': 162, u'drunk': 969, u'acted': 26, u'community': 642, u'church': 579, u'worthless': 3745, u'devil': 870, u'firm': 1205, u'fire': 1202, u'fund': 1295, u'deport': 849, u'straight': 3203, u'budget': 442, u'romneyi': 2822, u'leaning': 1824, u'romneya': 2806, u'huffington': 1568, u'hoping': 1550, u'backing': 238, u'calculator': 471, u'funny': 1299, u'read': 2655, u'survey': 3266, u'retractions': 2761, u'alert': 86, u'walmart': 3615, u'recent': 2676, u'kno': 1773, u'surrogate': 3265, u'person': 2388, u'youtubepolitics': 3787, u'amp': 116, u'contradicting': 690, u'parents': 2338, u'surprised': 3264, u'victims': 3568, u'format': 1258, u'couple': 723, u'wives': 3716, u'suffering': 3239, u'individuals': 1645, u'yields': 3775, u'ijs': 1602, u'senate': 2943, u'bounce': 403, u'oval': 2314, u'curious': 763, u'religion': 2712, u'sick': 3017, u'be': 281, u'bc': 280, u'bo': 380, u'agreement': 73, u'nowhere': 2221, u'bs': 436, u'major': 1958, u'by': 469, u'anything': 146, u'deserves': 857, u'malarkey': 1964, u'clinton': 603, u'colorado': 625, u'into': 1676, u'appropriate': 160, u'sneaky': 3073, u'spending': 3127, u'filthy': 1191, u'suit': 3243, u'spar': 3114, u'opens': 2288, u'blueprint': 378, u'jewish': 1721, u'pastor': 2353, u'deductions': 824, u'atlantic': 205, u'line': 1875, u'up': 3537, u'us': 3547, u'uh': 3501, u'factchecker': 1126, u'ncpol': 2165, u'fixing': 1211, u'mapoli': 1975, u'points': 2455, u'outsourced': 2311, u'ryans': 2872, u'manipulator': 1969, u'suppression': 3256, u'sides': 3019, u'ago': 69, u'land': 1792, u'consumer': 681, u'age': 65, u'holes': 1531, u'walked': 3609, u'having': 1462, u'partial': 2343, u'guessing': 1411, u'existing': 1100, u'legal': 1837, u'seemed': 2932, u'concerned': 655, u'send': 2945, u'debunking': 809, u'citing': 584, u'sorrynotsorry': 3105, u'dislike': 907, u'uploaded': 3540, u'continues': 686, u'continued': 685, u'magic': 1950, u'eva': 1069, u'marry': 1983, u'eve': 1071, u'fewer': 1180, u'try': 3463, u'race': 2622, u'tworship': 3492, u'pledge': 2442, u'cnns': 617, u'video': 3571, u'licenses': 1854, u'odd': 2248, u'obvious': 2243, u'led': 1833, u'lee': 1835, u'punch': 2595, u'newts': 2185, u'let': 1841, u'great': 1389, u'receive': 2673, u'extreme': 1117, u'ctl': 762, u'opinion': 2289, u'makes': 1961, u'thats': 3335, u'standing': 3148, u'certificate': 531, u'illegal': 1605, u'next': 2186, u'occurred': 2245, u'baby': 235, u'antichrist': 140, u'charity': 547, u'balls': 254, u'practicing': 2501, u'this': 3359, u'challenge': 533, u'process': 2555, u'high': 1499, u'nears': 2169, u'slip': 3055, u'bolstered': 386, u'ideology': 1589, u'destroying': 863, u'comedy': 630, u'blocks': 371, u'scammed': 2892, u'stefcutterclaims': 3172, u'tied': 3385, u'pigs': 2412, u'ties': 3386, u'npr': 2222, u'realized': 2665, u'reagans': 2659, u'counter': 716, u'allow': 91, u'houston': 1560, u'flopper': 1229, u'mute': 2138, u'move': 2116, u'mutt': 2140, u'perfect': 2382, u'animal': 125, u'outlined': 2307, u'earn': 984, u'snake': 3071, u'kiss': 1769, u'realize': 2664, u'presidential': 2529, u'truth': 3461, u'accounts': 18, u'beneath': 308, u'stock': 3187, u'doing': 924, u'gary': 1317, u'society': 3080, u'books': 391, u'hilarious': 1503, u'shut': 3014, u'greedy': 1392, u'surely': 3259, u'scary': 2899, u'could': 713, u'area': 166, u'david': 790, u'repeats': 2724, u'scare': 2894, u'blown': 376, u'scene': 2901, u'owned': 2320, u'jesus': 1718, u'lol': 1898, u'start': 3153, u'system': 3274, u'vetoes': 3563, u'interests': 1669, u'stomach': 3191, u'lot': 1922, u'elite': 1022, u'gays': 1322, u'sooner': 3101, u'result': 2757, u'ingenious': 1649, u'false': 1141, u'lines': 1876, u'tonight': 3404, u'clearly': 598, u'dishes': 903, u'idonthavetimefor': 1594, u'bonanza': 388, u'latino': 1801, u'soar': 3077, u'hypocrite': 1582, u'stronger': 3214, u'face': 1122, u'fact': 1125, u'bring': 423, u'economist': 996, u'should': 3005, u'riding': 2782, u'hope': 1547, u'meant': 2006, u'handle': 1439, u'means': 2005, u'taxes': 3295, u'vying': 3600, u'stuff': 3223, u'ohio': 2266, u'btw': 437, u'lazy': 1815, u'insulting': 1658, u'bunch': 449, u'youll': 3780, u'email': 1026, u'etc': 1067, u'harvard': 1452, u'figures': 1186, u'co': 618, u'cc': 522, u'picking': 2405, u'theyve': 3351, u'disdain': 899, u'hahaha': 1424, u'va': 3553, u'vp': 3597, u'whitewashes': 3680, u'vs': 3598, u'politics': 2467, u'waivers': 3606, u'terrorist': 3325, u'bishop': 348, u'matthew': 1996, u'lookin': 1908, u'bald': 249, u'upon': 3541, u'nationally': 2159, u'jansing': 1710, u'off': 2251, u'newest': 2181, u'less': 1839, u'predicts': 2514, u'paul': 2361, u'web': 3651, u'generous': 1326, u'wed': 3653, u'transparent': 3437, u'crack': 731, u'fightforjobs': 1183, u'government': 1376, u'checking': 557, u'rubin': 2855, u'increases': 1637, u'five': 1208, u'debatable': 803, u'become': 287, u'replacement': 2727, u'amendment': 109, u'gaining': 1307, u'ballot': 252, u'literally': 1883, u'avoid': 223, u'does': 918, u'passion': 2350, u'blowing': 375, u'schedule': 2902, u'pressure': 2534, u'counties': 718, u'hiding': 1498, u'gained': 1306, u'sister': 3034, u'asks': 190, u'shoes': 2999, u'label': 1785, u'swimming': 3271, u'included': 1632, u'yrs': 3790, u'teaparty': 3308, u'basic': 274, u'candidacy': 491, u'count': 715, u'places': 2423, u'campus': 485, u'official': 2260, u'convince': 696, u'problem': 2552, u'irish': 1690, u'undecideds': 3508, u'details': 867, u'illusion': 1610, u'repeat': 2722, u'monday': 2091, u'class': 592, u'chance': 536, u'repeal': 2721, u'rule': 2859, u'pension': 2373, u'rural': 2867, u'defend': 829, u'copy': 703, u'saved': 2885, u'votes': 3591, u'voter': 3588, u'bike': 329, u'voted': 3586, u'worth': 3744, u'compassion': 645, u'red': 2682, u'phoney': 2398, u'decisions': 818, u'near': 2167, u'walkout': 3611, u'above': 7, u'frank': 1273, u'churches': 580, u'officially': 2261, u'told': 3401, u'shutup': 3015, u'daughter': 789, u'aks': 84, u'employees': 1032, u'smoke': 3070, u'aka': 82, u'viewgab': 3574, u'bro': 427, u'opportunities': 2292, u'total': 3416, u'ploy': 2445, u'negative': 2173, u'insult': 1657, u'tryin': 3464, u'sociopath': 3081, u'haha': 1422, u'themselvesandy': 3340, u'backwards': 240, u'allies': 90, u'word': 3728, u'wore': 3730, u'work': 3731, u'refusing': 2694, u'already': 98, u'piers': 2410, u'cited': 582, u'india': 1644, u'cites': 583, u'provide': 2586, u'song': 3098, u'nuts': 2226, u'very': 3560, u'moron': 2108, u'truthful': 3462, u'offshore': 2263, u'after': 61, u'lay': 1813, u'law': 1809, u'misleads': 2063, u'las': 1797, u'elusive': 1024, u'appreciate': 158, u'green': 1393, u'worst': 3743, u'order': 2299, u'greed': 1391, u'lindsay': 1874, u'office': 2259, u'missionary': 2069, u'japan': 1712, u'somewhere': 3096, u'denver': 846, u'production': 2558, u'then': 3341, u'them': 3338, u'break': 414, u'hispanics': 1516, u'shameful': 2980, u'they': 3348, u'solyndra': 3088, u'bank': 258, u'bread': 413, u'embarrassed': 1027, u'slavery': 3050, u'rocks': 2798, u'reasonable': 2669, u'network': 2177, u'hooked': 1544, u'tcot': 3299, u'veto': 3562, u'confirms': 664, u'standard': 3147, u'admits': 44, u'unconvinced': 3506, u'vets': 3564, u'created': 738, u'creates': 739, u'uppers': 3544, u'another': 131, u'dogg': 921, u'elevator': 1019, u'rates': 2646, u'john': 1727, u'crunched': 758, u'rejected': 2702, u'hike': 1502, u'hacking': 1420, u'failing': 1132, u'return': 2762, u'nba': 2160, u'forced': 1251, u'strength': 3209, u'laden': 1788, u'explanation': 1111, u'middleclass': 2040, u'pandora': 2331, u'bruce': 434, u'shyt': 3016, u'grave': 1387, u'investments': 1682, u'niether': 2189, u'aunt': 217, u'voting': 3594, u'responded': 2750, u'sentence': 2954, u'hrs': 1566, u'yea': 3766, u'do': 915, u'df': 872, u'de': 795, u'dc': 794, u'da': 774, u'dr': 949, u'runs': 2865, u'steal': 3169, u'secretary': 2923, u'observer': 2241, u'traynham': 3439, u'depends': 848, u'scrutinizing': 2914, u'draws': 955, u'away': 227, u'gentleman': 1328, u'unable': 3503, u'we': 3643, u'terms': 3318, u'wo': 3717, u'wh': 3667, u'kitchen': 1770, u'received': 2674, u'ill': 1604, u'brag': 409, u'con': 653, u'tough': 3419, u'condescending': 658, u'tons': 3407, u'speak': 3115, u'fck': 1162, u'iraq': 1689, u'drafting': 951, u'flexible': 1219, u'families': 1143, u'attacked': 208, u'johansson': 1726, u'east': 990, u'publicly': 2591, u'air': 80, u'aim': 77, u'aid': 75, u'voice': 3581, u'mistake': 2071, u'cont': 682, u'sticker': 3183, u'confirmed': 663, u'descend': 852, u'convictions': 695, u'independent': 1642, u'blames': 360, u'evil': 1084, u'hand': 1436, u'kept': 1752, u'scenario': 2900, u'humble': 1575, u'tho': 3360, u'hispanic': 1515, u'the': 3336, u'background': 237, u'gods': 1355, u'thanks': 3332, u'hills': 1507, u'belongs': 306, u'board': 381, u'rnc': 2792, u'theyre': 3350, u'night': 2192, u'security': 2927, u'sends': 2947, u'born': 395, u'comments': 636, u'asking': 189, u'denied': 845, u'plz': 2448, u'post': 2488, u'months': 2094, u'tonights': 3405, u'pays': 2365, u'bound': 404, u'balanced': 248, u'fight': 1182, u'realromney': 2667, u'author': 219, u'way': 3640, u'wat': 3635, u'was': 3629, u'war': 3622, u'becoming': 289, u'somehow': 3091, u'taken': 3281, u'dead': 796, u'true': 3454, u'absent': 8, u'reproductive': 2737, u'promises': 2569, u'ltlt': 1936, u'moore': 2095, u'tryna': 3466, u'evidence': 1082, u'dear': 800, u'guessed': 1410, u'promised': 2568, u'prayer': 2504, u'dying': 979, u'stake': 3143, u'reality': 2663, u'falsely': 1142, u'test': 3326, u'scored': 2910, u'romneyexposed': 2816, u'brothers': 432, u'welcome': 3659, u'outreach': 2308, u'cheated': 551, u'together': 3400, u'basically': 275, u'switched': 3273, u'dance': 781, u'global': 1348, u'battle': 278, u'obamacare': 2234, u'terror': 3324, u'vegas': 3558, u'trouble': 3453, u'turns': 3477, u'gun': 1412, u'soooo': 3102, u'gut': 1415, u'guy': 1416, u'upper': 3542, u'thinker': 3355, u'cost': 710, u'supporter': 3250, u'supporting': 3252, u'burn': 452, u'muslim': 2136, u'teacher': 3301, u'change': 538, u'sending': 2946, u'romneycampaign': 2810, u'shifting': 2988, u'regardless': 2695, u'colbert': 621, u'rarely': 2643, u'market': 1980, u'flavors': 1217, u'prove': 2583, u'super': 3247, u'live': 1885, u'clue': 611, u'douche': 944, u'niggas': 2191, u'car': 502, u'cap': 498, u'can': 486, u'heart': 1473, u'dedicated': 822, u'december': 812, u'topic': 3412, u'heard': 1471, u'bankrupt': 259, u'discussion': 898, u'write': 3752, u'economy': 998, u'product': 2557, u'disgusted': 900, u'nomination': 2200, u'remember': 2717, u'whenever': 3672, u'typical': 3497, u'indeed': 1641, u'ended': 1038, u'whats': 3670, u'cold': 622, u'still': 3186, u'pinata': 2414, u'forms': 1261, u'window': 3700, u'half': 1428, u'not': 2212, u'nov': 2218, u'now': 2220, u'hall': 1429, u'nor': 2208, u'wont': 3726, u'lier': 1857, u'lies': 1858, u'james': 1708, u'drop': 965, u'entirely': 1053, u'raises': 2631, u'em': 1025, u'fired': 1203, u'ed': 999, u'yeah': 3767, u'challenges': 534, u'fires': 1204, u'year': 3768, u'happen': 1443, u'avoided': 224, u'er': 1063, u'shown': 3010, u'accomplish': 16, u'irony': 1691, u'looking': 1909, u'receiving': 2675, u'shows': 3011, u'gaffe': 1304, u'card': 503, u'care': 505, u'honest': 1539, u'flipping': 1226, u'xd': 3760, u'untrue': 3534, u'directly': 888, u'impossible': 1625, u'message': 2027, u'drove': 966, u'tomorrow': 3403, u'checked': 555, u'caught': 518, u'households': 1559, u'friend': 1280, u'eliminates': 1021, u'flowers': 1232, u'than': 3330, u'transferred': 3435, u'karate': 1746, u'apples': 155, u'prefers': 2518, u'slap': 3047, u'slam': 3046, u'anger': 123, u'breakfast': 415, u'form': 1257, u'terrific': 3321, u'online': 2280, u'begin': 294, u'price': 2538, u'importantly': 1624, u'america': 110, u'michelle': 2036, u'forever': 1255, u'bishops': 349, u'cheaters': 552, u'incredibly': 1640, u'mrs': 2124, u'slaves': 3051, u'professional': 2560, u'msnbcs': 2128, u'aint': 79, u'only': 2281, u'bankrupting': 261, u'truly': 3455, u'cannot': 495, u'logan': 1895, u'inside': 1651, u'husband': 1580, u'committed': 639, u'ends': 1047, u'elected': 1014, u'asleep': 191, u'hoes': 1525, u'equalpay': 1060, u'dressage': 959, u'willard': 3695, u'justified': 1741, u'whipped': 3678, u'notice': 2216, u'blame': 359, u'article': 181, u'comes': 631, u'gangnam': 1314, u'exploit': 1113, u'proved': 2584, u'cares': 509, u'rebuild': 2671, u'ledbetter': 1834, u'cared': 506, u'antiabortion': 139, u'countless': 719, u'these': 3346, u'crowley': 757, u'proves': 2585, u'editorial': 1001, u'joke': 1731, u'landslide': 1794, u'soil': 3082, u'bias': 320, u'stickers': 3184, u'worry': 3741, u'media': 2008, u'followers': 1240, u'finish': 1200, u'validate': 3555, u'mentally': 2019, u'agreeing': 72, u'schoolers': 2907, u'touch': 3418, u'speed': 3124, u'death': 801, u'thinking': 3356, u'republic': 2739, u'momentum': 2089, u'real': 2660, u'rules': 2861, u'gonna': 1362, u'early': 983, u'outsource': 2310, u'listening': 1882, u'using': 3552, u'lady': 1790, u'ruled': 2860, u'fortune': 1263, u'endorses': 1045, u'romneythe': 2830, u'benefit': 309, u'ie': 1595, u'endorsed': 1041, u'interest': 1666, u'exposed': 1116, u'privatization': 2547, u'unraveling': 3530, u'viral': 3577, u'kaiser': 1744, u'willis': 3697, u'conservative': 673, u'deficit': 833, u'ohios': 2268, u'business': 457, u'equivalent': 1062, u'tuition': 3471, u'sixty': 3040, u'exciting': 1094, u'throw': 3374, u'central': 525, u'chop': 574, u'referred': 2687, u'youd': 3779, u'your': 3783, u'prepare': 2522, u'low': 1928, u'stars': 3152, u'jones': 1733, u'trying': 3465, u'hire': 1511, u'fraud': 1274, u'romneycan': 2811, u'beliefs': 301, u'moves': 2117, u'credibility': 744, u'that': 3333, u'you': 3778, u'forcing': 1252, u'poor': 2474, u'massachusetts': 1986, u'coverage': 726, u'mormonism': 2104, u'pool': 2473, u'overseas': 2317, u'pointing': 2454, u'month': 2093, u'religious': 2713, u'horror': 1552, u'me': 2002, u'minded': 2051, u'decide': 814, u'heaven': 1475, u'mittens': 2074, u'ass': 192, u'freeport': 1278, u'streets': 3208, u'earns': 985, u'conscience': 670, u'investing': 1680, u'learned': 1827, u'iran': 1688, u'loose': 1913, u'answers': 136, u'strong': 3213, u'creeps': 747, u'ahead': 74, u'creepy': 748, u'amount': 115, u'arent': 167, u'family': 1144, u'ask': 187, u'toys': 3429, u'detailsmatter': 868, u'takes': 3283, u'limbaugh': 1872, u'lowering': 1930, u'site': 3036, u'portman': 2482, u'excuse': 1095, u'broke': 428, u'romneywon': 2836, u'rips': 2790, u'offended': 2252, u'history': 1517, u'pushed': 2606, u'phrase': 2402, u'stayed': 3166, u'reject': 2701, u'foodstamps': 1244, u'fr': 1271, u'tried': 3447, u'rude': 2857, u'fb': 1161, u'hubbard': 1567, u'fk': 1212, u'fl': 1213, u'criticize': 751, u'bashing': 273, u'ego': 1010, u'banks': 262, u'dream': 956, u'help': 1481, u'charities': 546, u'held': 1478, u'hell': 1479, u'actually': 34, u'heros': 1491, u'relate': 2703, u'fool': 1245, u'gibbs': 1335, u'yo': 3776, u'ya': 3761, u'hahahahahaha': 1426, u'foot': 1247, u'yr': 3789, u'yu': 3791, u'flipflop': 1222, u'fully': 1293, u'bless': 366, u'stopped': 3196, u'die': 877, u'heavy': 1476, u'fees': 1171, u'todd': 3399, u'event': 1073, u'robert': 2796, u'since': 3029, u'douglas': 946, u'trusts': 3459, u'dominated': 928, u'issue': 1697, u'drink': 960, u'dirt': 890, u'favored': 1158, u'timeline': 3390, u'reason': 2668, u'base': 271, u'put': 2608, u'matthews': 1997, u'launch': 1807, u'terrible': 3319, u'americas': 113, u'cheering': 559, u'american': 111, u'spitting': 3130, u'talked': 3287, u'miss': 2065, u'horse': 1553, u'baldfaced': 250, u'selling': 2941, u'lnyhbt': 1892, u'trapper': 3438, u'assaulted': 195, u'grey': 1396, u'greg': 1394, u'str': 3202, u'toward': 3421, u'contraception': 687, u'wasnt': 3633, u'lie': 1855, u'towards': 3422, u'quote': 2621, u'hired': 1512, u'sponsored': 3134, u'loopholes': 1912, u'clear': 597, u'clean': 594, u'axelrod': 232, u'unwed': 3535, u'justice': 1739, u'pretty': 2536, u'trees': 3442, u'during': 977, u'withdrawal': 3712, u'throwing': 3376, u'plausible': 2435, u'close': 604, u'pictures': 2408, u'wow': 3750, u'woo': 3727, u'won': 3723, u'probably': 2551, u'conditions': 659, u'piss': 2418, u'missing': 2067, u'poorer': 2475, u'antiromney': 141, u'ranked': 2639, u'invisible': 1684, u'both': 400, u'mega': 2015, u'secrets': 2924, u'minorities': 2055, u'woke': 3719, u'cnndebate': 614, u'liked': 1866, u'jesustweeters': 1719, u'manners': 1970, u'whatever': 3669, u'likes': 1868, u'described': 853, u'outstanding': 2313, u'describes': 854, u'damn': 780, u'hampshire': 1435, u'threaten': 3367, u'empty': 1034, u'else': 1023, u'anthony': 137, u'lives': 1886, u'lowwage': 1933, u'look': 1906, u'socialist': 3079, u'governor': 1377, u'rope': 2845, u'while': 3677, u'accidently': 15, u'ought': 2303, u'loot': 1914, u'voters': 3590, u'hoax': 1523, u'ready': 2657, u'payers': 2363, u'anymore': 144, u'belong': 305, u'grand': 1383, u'dontcare': 937, u'sham': 2978, u'used': 3550, u'dime': 885, u'uses': 3551, u'cleaning': 596, u'lil': 1870, u'grossly': 1397, u'ambassador': 107, u'startups': 3157, u'praying': 2505, u'retirement': 2760, u'barack': 266, u'ballots': 253, u'march': 1976, u'showing': 3009, u'game': 1312, u'resorted': 2746, u'popular': 2478, u'fathers': 1154, u'creation': 741, u'some': 3089, u'trends': 3445, u'economic': 994, u'run': 2862, u'stem': 3173, u'step': 3175, u'troops': 3452, u'shine': 2989, u'faith': 1136, u'wouldnt': 3748, u'sake': 2876, u'campaignromney': 483, u'idk': 1593, u'idc': 1586, u'block': 370, u'seeing': 2929, u'dude': 971, u'within': 3713, u'rolls': 2803, u'himself': 1509, u'approvingly': 163, u'registered': 2697, u'authority': 220, u'pdslive': 2368, u'info': 1647, u'hair': 1427, u'rupert': 2866, u'nah': 2148, u'politicians': 2464, u'arithmetic': 172, u'smiles': 3068, u'regulations': 2700, u'practically': 2499, u'required': 2742, u'everywhere': 1081, u'sounded': 3109, u'gt': 1405, u'go': 1351, u'gm': 1350, u'tweeted': 3481, u'insistent': 1655, u'pennies': 2371, u'endorsemitt': 1043, u'assuming': 201, u'miners': 2054, u'facebook': 1123, u'telling': 3312, u'gender': 1323, u'button': 465, u'makeupyourmind': 1962, u'jump': 1736, u'formitt': 1260, u'believes': 304, u'click': 601, u'reviews': 2773, u'plays': 2439, u'proromney': 2577, u'cell': 523, u'stance': 3145, u'commercial': 637, u'following': 1241, u'focused': 1235, u'products': 2559, u'danger': 783, u'shake': 2977, u'win': 3698, u'manage': 1967, u'addressed': 38, u'wit': 3710, u'longoria': 1904, u'redefining': 2683, u'singing': 3031, u'cloud': 609, u'metaphor': 2030, u'snoop': 3075, u'remains': 2714, u'mirrors': 2060, u'camera': 480, u'stage': 3141, u'reflects': 2690, u'adelson': 40, u'started': 3154, u'becomes': 288, u'fuck': 1285, u'ride': 2780, u'recession': 2678, u'servants': 2960, u'meet': 2012, u'potus': 2491, u'control': 693, u'links': 1879, u'halloween': 1430, u'pulling': 2594, u'stemmed': 3174, u'arrangement': 177, u'feels': 1170, u'prays': 2506, u'rove': 2851, u'healthcare': 1469, u'including': 1633, u'costume': 712, u'referencing': 2686, u'mentioned': 2021, u'newsweek': 2184, u'him': 1508, u'pure': 2601, u'auto': 221, u'hands': 1440, u'front': 1283, u'university': 3524, u'slide': 3054, u'seniors': 2949, u'illuminati': 1609, u'globe': 1349, u'staying': 3167, u'special': 3119, u'mat': 1989, u'cause': 519, u'romneybecause': 2808, u'completely': 650, u'advisor': 52, u'hostile': 1554, u'florida': 1231, u'edshow': 1002, u'keep': 1747, u'wrote': 3755, u'mad': 1946, u'powerful': 2495, u'bitch': 351, u'stump': 3224, u'management': 1968, u'data': 787, u'attack': 207, u'final': 1192, u'greta': 1395, u'exactly': 1088, u'herself': 1492, u'ben': 307, u'submitted': 3229, u'dumb': 974, u'bet': 316, u'need': 2170, u'preps': 2523, u'screw': 2912, u'bastard': 277, u'able': 3, u'krugman': 1783, u'tactic': 3276, u'brand': 412, u'therealromney': 3343, u'aww': 231, u'thts': 3379, u'consequences': 672, u'reminds': 2720, u'businessman': 459, u'anyway': 147, u'based': 272, u'winner': 3704, u'employee': 1031, u'achieve': 23, u'dodge': 917, u'michigan': 2037, u'overall': 2316, u'tbh': 3297, u'joins': 1730, u'werent': 3664, u'stability': 3137, u'sht': 3013, u'evident': 1083, u'course': 724, u'she': 2983, u'presidentialdebates': 2531, u'preach': 2507, u'pitch': 2421, u'humans': 1574, u'computer': 651, u'desperate': 859, u'creating': 740, u'nightmare': 2193, u'horrible': 1551, u'neither': 2175, u'key': 1754, u'approval': 161, u'wapo': 3621, u'hits': 1520, u'weeks': 3657, u'admin': 41, u'minds': 2052, u'admit': 43, u'flocking': 1227, u'jim': 1722, u'tuesday': 3469, u'quit': 2619, u'cowards': 730, u'liberals': 1851, u'slowly': 3060, u'treat': 3440, u'tweets': 3483, u'cnnpoll': 616, u'abortions': 5, u'harder': 1449, u'owns': 2321, u'romneyshambles': 2829, u'dems': 844, u'bucks': 441, u'strange': 3205, u'speaker': 3116, u'underground': 3510, u'effect': 1006, u'steals': 3171, u'well': 3661, u'restore': 2756, u'accurate': 19, u'jeff': 1714, u'bullshit': 446, u'ohioans': 2267, u'homework': 1537, u'advertising': 48, u'crushed': 759, u'immediately': 1618, u'loss': 1920, u'lincoln': 1873, u'lost': 1921, u'exploiting': 1114, u'clown': 610, u'page': 2325, u'twitter': 3489, u'shes': 2986, u'cleveland': 599, u'home': 1534, u'liking': 1869, u'peter': 2392, u'romneywas': 2832, u'demonstrated': 843, u'duh': 973, u'freedom': 1277, u'romneyon': 2825, u'equally': 1059, u'glenn': 1347, u'washington': 3632, u'couldnt': 714, u'strategy': 3206, u'noticed': 2217, u'north': 2211, u'hr': 1565, u'gain': 1305, u'highest': 1501, u'eat': 992, u'he': 1463, u'topprog': 3413, u'signed': 3022, u'piece': 2409, u'twist': 3486, u'conan': 654, u'education': 1004, u'contest': 683, u'offensive': 2254, u'talkin': 3288, u'star': 3151, u'justsaying': 1743, u'insults': 1659, u'friends': 1281, u'atheist': 204, u'martin': 1984, u'todays': 3398, u'protest': 2579, u'asian': 186, u'battleground': 279, u'whose': 3688, u'presents': 2526, u'thestruggle': 3347, u'sorry': 3104, u'updated': 3538, u'connects': 669, u'smack': 3062, u'reforms': 2692, u'upi': 3539, u'skills': 3043, u'companies': 643, u'solution': 3086, u'heading': 1465, u'clothes': 608, u'force': 1250, u'warns': 3625, u'across': 24, u'likely': 1867, u'wreck': 3751, u'lights': 1861, u'new': 2180, u'net': 2176, u'gillespie': 1337, u'ever': 1074, u'behavior': 297, u'hempstead': 1486, u'men': 2018, u'met': 2029, u'dry': 970, u'economics': 995, u'besides': 313, u'campaign': 482, u'reagan': 2658, u'county': 722, u'specifics': 3121, u'moral': 2096, u'army': 175, u'calm': 478, u'survive': 3267, u'type': 3495, u'tell': 3311, u'supporters': 3251, u'expose': 1115, u'wars': 3628, u'rip': 2789, u'former': 1259, u'room': 2842, u'rights': 2784, u'setup': 2967, u'righty': 2786, u'roof': 2841, u'movies': 2119, u'akin': 83, u'root': 2843, u'give': 1342, u'peoplewhat': 2376, u'buckeye': 440, u'faults': 1156, u'stupidity': 3226, u'answer': 133, u'bidens': 325, u'president': 2528, u'shirt': 2993, u'attempt': 211, u'third': 3358, u'capitalism': 500, u'maintain': 1956, u'uninsured': 3519, u'wut': 3759, u'oswalt': 2300, u'wud': 3758, u'before': 293, u'votesmart': 3592, u'personal': 2389, u'better': 317, u'donors': 935, u'unemployed': 3514, u'romeny': 2804, u'rhetoric': 2774, u'meat': 2007, u'conflict': 665, u'wage': 3602, u'side': 3018, u'luck': 1937, u'gunna': 1413, u'aide': 76, u'rtmitt': 2854, u'surprise': 3263, u'turning': 3476, u'struggle': 3216, u'starts': 3156, u'signature': 3021, u'loud': 1924, u'fuckin': 1288, u'economists': 997, u'unfollowed': 3517, u'twisted': 3487, u'romneyhas': 2819, u'hollywood': 1532, u'latism': 1803, u'begins': 296, u'spoiler': 3131, u'matter': 1994, u'street': 3207, u'silly': 3026, u'sees': 2935, u'mind': 2050, u'mine': 2053, u'seen': 2934, u'seem': 2931, u'tells': 3313, u'cnndebates': 615, u'memo': 2017, u'don': 929, u'medical': 2010, u'dog': 920, u'annoyed': 128, u'lyrics': 1943, u'hunger': 1578, u'ending': 1039, u'nevada': 2178, u'explain': 1107, u'folks': 1237, u'wearing': 3649, u'endorse': 1040, u'stop': 3195, u'bar': 265, u'illegitimate': 1607, u'bag': 242, u'bad': 241, u'troop': 3451, u'ban': 255, u'ears': 986, u'decides': 816, u'reference': 2685, u'decided': 815, u'subject': 3228, u'said': 2875, u'olympics': 2274, u'omg': 2275, u'wears': 3650, u'ignorance': 1597, u'laureates': 1808, u'suggested': 3240, u'against': 64, u'amazing': 105, u'obamas': 2236, u'aftermath': 62, u'puts': 2609, u'basis': 276, u'three': 3370, u'threw': 3371, u'website': 3652, u'personally': 2390, u'tank': 3291, u'ugly': 3500, u'suppose': 3254, u'balance': 247, u'study': 3222, u'seven': 2968, u'changed': 539, u'mexico': 2033, u'is': 1694, u'it': 1699, u'fakes': 1138, u'shame': 2979, u'cant': 496, u'im': 1611, u'il': 1603, u'in': 1628, u'mouse': 2114, u'id': 1585, u'if': 1596, u'therealromneys': 3344, u'make': 1960, u'hahah': 1423, u'entitled': 1054, u'meets': 2014, u'opportunity': 2293, u'thoughts': 3364, u'kid': 1757, u'programs': 2565, u'youre': 3784, u'claims': 591, u'flops': 1230, u'yours': 3785, u'left': 1836, u'just': 1738, u'unfollow': 3516, u'human': 1571, u'facts': 1128, u'yep': 3770, u'yes': 3771, u'yet': 3774, u'candidate': 492, u'character': 543, u'justices': 1740, u'save': 2884, u'wanting': 3619, u'govt': 1380, u'dreams': 957, u'patience': 2358, u'dean': 799, u'deal': 798, u'deaf': 797, u'elderly': 1012, u'track': 3430, u'drudge': 967, u'jeans': 1713, u'predicting': 2512, u'keeper': 1748, u'bury': 453, u'magazine': 1949, u'lied': 1856, u'down': 947, u'amazingly': 106, u'offering': 2257, u'protestant': 2580, u'daddy': 776, u'toss': 3415, u'covers': 728, u'shit': 2994, u'handed': 1437, u'dies': 879, u'felt': 1174, u'parenthood': 2337, u'fell': 1173, u'transfers': 3436, u'weekend': 3656, u'died': 878, u'billion': 331, u'happening': 1445, u'assume': 200, u'daily': 778, u'premiums': 2520, u'profits': 2563, u'realclearpolitics': 2661, u'skin': 3044, u'milk': 2044, u'suicide': 3242, u'father': 1153, u'disgusting': 901, u'answered': 134, u'finally': 1193, u'suffered': 3238, u'adviser': 50, u'teamobama': 3305, u'billionaire': 332, u'ma': 1944, u'staples': 3150, u'did': 875, u'cleaners': 595, u'dig': 884, u'democrat': 840, u'round': 2849, u'dis': 892, u'olympic': 2273, u'eating': 993, u'adds': 39, u'heres': 1489, u'suspect': 3268, u'filled': 1189, u'guardian': 1408, u'wait': 3604, u'box': 406, u'boy': 407, u'romneygives': 2818, u'shift': 2987, u'widening': 3692, u'boo': 389, u'priceless': 2539, u'bob': 382, u'genuinely': 1329, u'elect': 1013, u'everybody': 1076, u'ayn': 233, u'wealth': 3645, u'visit': 3580, u'france': 1272, u'insider': 1652, u'thru': 3378, u'effort': 1008, u'fly': 1233, u'avoiding': 225, u'soul': 3106, u'soup': 3111, u'making': 1963, u'claim': 588, u'crazy': 735, u'predict': 2511, u'confused': 666, u'voteromney': 3589, u'pink': 2415, u'nyt': 2231, u'till': 3388, u'nyc': 2229, u'map': 1974, u'designed': 858, u'mocks': 2081, u'prolife': 2566, u'guys': 1417, u'grow': 1401, u'johnson': 1728, u'maybe': 2000, u'preacher': 2508, u'killers': 1763, u'talk': 3286, u'nearly': 2168, u'cute': 770, u'pointed': 2453, u'cuts': 771, u'differs': 882, u'police': 2457, u'thank': 3331, u'interesting': 1668, u'policy': 2459, u'msnbc': 2127, u'main': 1954, u'finance': 1194, u'views': 3575, u'rattled': 2649, u'killer': 1762, u'interview': 1675, u'killed': 1761, u'yesimjudging': 3772, u'rock': 2797, u'scheme': 2903, u'preaching': 2509, u'girl': 1339, u'morning': 2106, u'canada': 487, u'living': 1887, u'correct': 708, u'charlotte': 548, u'earlier': 982, u'california': 472, u'language': 1795, u'thing': 3352, u'think': 3354, u'first': 1206, u'rachel': 2623, u'americans': 112, u'fast': 1150, u'corporations': 707, u'sounds': 3110, u'little': 1884, u'anyone': 145, u'rebuttal': 2672, u'speaking': 3117, u'hillary': 1506, u'butt': 464, u'gotta': 1370, u'were': 3663, u'criticizes': 753, u'dash': 785, u'conspiracy': 677, u'mitty': 2078, u'mitts': 2077, u'obamaromney': 2235, u'answering': 135, u'shocked': 2996, u'shocker': 2997, u'performance': 2383, u'channel': 542, u'pain': 2327, u'normal': 2209, u'arguing': 169, u'paid': 2326, u'hilariously': 1504, u'assault': 194, u'especially': 1065, u'rating': 2648, u'shot': 3003, u'show': 3007, u'moderator': 2084, u'forecast': 1253, u'dick': 874, u'black': 356, u'enthusiasm': 1051, u'sensata': 2950, u'get': 1331, u'employers': 1033, u'romneyis': 2823, u'janitors': 1709, u'summary': 3246, u'stupid': 3225, u'caller': 475, u'seat': 2919, u'scarlett': 2898, u'wonder': 3724, u'behind': 298, u'reading': 2656, u'checks': 558, u'affordable': 56, u'parent': 2336, u'killing': 1764, u'according': 17, u'blasts': 362, u'sketchy': 3041, u'among': 114, u'cancer': 490, u'grants': 1385, u'likability': 1862, u'considering': 675, u'destroyed': 862, u'barry': 270, u'mark': 1979, u'compelling': 646, u'educated': 1003, u'offered': 2256, u'dangerous': 784, u'wake': 3607, u'those': 3361, u'sound': 3108, u'promising': 2570, u'cancelled': 488, u'sincere': 3030, u'coffee': 620, u'middle': 2039, u'obnoxious': 2239, u'everyday': 1077, u'different': 881, u'doctor': 916, u'pay': 2362, u'same': 2880, u'pac': 2324, u'speech': 3123, u'struggling': 3217, u'running': 2864, u'totally': 3417, u'drain': 952, u'band': 256, u'evils': 1085, u'parody': 2341, u'prochoice': 2556, u'money': 2092, u'fueling': 1291, u'clueless': 612, u'careers': 508, u'jake': 1707, u'mom': 2087, u'disappointed': 895, u'audience': 216, u'passionate': 2351, u'draw': 954, u'images': 1614, u'alternet': 100, u'besser': 314, u'doggs': 922, u'moderate': 2083, u'seconds': 2921, u'broken': 429, u'refers': 2688, u'violence': 3576, u'youve': 3788, u'mixed': 2079, u'road': 2794, u'lands': 1793, u'blogmissing': 373, u'annoys': 130, u'gravis': 1388, u'cspan': 761, u'enough': 1050, u'strikes': 3211, u'proceeds': 2554, u'vomit': 3583, u'leaked': 1822, u'deep': 826, u'general': 1324, u'deed': 825, u'film': 1190, u'fill': 1188, u'again': 63, u'field': 1181, u'twerk': 3484, u'townhalls': 3428, u'privatized': 2548, u'students': 3220, u'narrative': 2155, u'important': 1623, u'chris': 575, u'lair': 1791, u'bainromney': 246, u'god': 1354, u'starting': 3155, u'represent': 2735, u'liar': 1848, u'founder': 1267, u'dollar': 925, u'talks': 3290, u'hed': 1477, u'imma': 1616, u'straightforward': 3204, u'sitting': 3037, u'fall': 1139, u'winning': 3705, u'difference': 880, u'ramen': 2635, u'washing': 3631, u'mothers': 2113, u'wsj': 3756, u'gop': 1368, u'neighborhood': 2174, u'foxnews': 1270, u'zero': 3793, u'further': 1301, u'abc': 2, u'stood': 3193, u'stool': 3194, u'abt': 11, u'public': 2590, u'disastrous': 896, u'campaigns': 484, u'search': 2918, u'bible': 322, u'margin': 1978, u'mentions': 2023, u'pathological': 2357, u'africa': 59, u'armed': 174, u'eye': 1120, u'two': 3490, u'staggering': 3142, u'town': 3424, u'none': 2202, u'hour': 1556, u'des': 851, u'sucks': 3236, u'dem': 838, u'def': 828, u'share': 2982, u'contradicts': 691, u'numbers': 2224, u'purchased': 2600, u'yankees': 3764, u'assassinated': 193, u'needs': 2172, u'acts': 32, u'patton': 2360, u'advice': 49, u'response': 2751, u'coal': 619, u'secs': 2925, u'responsibility': 2753, u'playing': 2438, u'through': 3373, u'suffer': 3237, u'arrogant': 179, u'reuters': 2765, u'romneydont': 2814, u'arguments': 171, u'someone': 3092, u'disrespectful': 910, u'primary': 2542, u'stepped': 3177, u'association': 199, u'mystery': 2143, u'easily': 989, u'pregnant': 2519, u'positions': 2484, u'repeating': 2723, u'harm': 1451, u'everyone': 1078, u'house': 1558, u'hard': 1448, u'idea': 1587, u'oil': 2269, u'ryan': 2870, u'insurance': 1660, u'perry': 2387, u'funding': 1296, u'taibbi': 3279, u'acting': 27, u'bully': 447, u'pathetic': 2356, u'pleasant': 2440, u'beginning': 295, u'benefits': 310, u'computers': 652, u'plot': 2444, u'dont': 936, u'done': 934, u'wages': 3603, u'least': 1828, u'paint': 2328, u'regulation': 2699, u'merica': 2024, u'statement': 3161, u'dumbass': 975, u'kos': 1782, u'part': 2342, u'believe': 302, u'quinnipiac': 2618, u'gotten': 1371, u'supposed': 3255, u'treated': 3441, u'declare': 820, u'interactive': 1665, u'nominee': 2201, u'built': 444, u'dancing': 782, u'majority': 1959, u'build': 443, u'obviously': 2244, u'commentary': 635, u'chart': 549, u'most': 2111, u'significant': 3023, u'extremely': 1118, u'barackobama': 267, u'humanitarian': 1572, u'ko': 1779, u'charitable': 545, u'businesses': 458, u'tuesdays': 3470, u'find': 1196, u'ruin': 2858, u'idiots': 1592, u'weve': 3666, u'capital': 499, u'breast': 418, u'fucromney': 1290, u'doubled': 941, u'common': 640, u'doubles': 942, u'retweet': 2764, u'electoral': 1017, u'debat': 802, u'fans': 1146, u'rosie': 2847, u'responses': 2752, u'tlot': 3395, u'pissed': 2419, u'foreign': 1254, u'alot': 97, u'point': 2451, u'simple': 3027, u'tennessee': 3315, u'simply': 3028, u'expensive': 1104, u'hannity': 1442, u'raise': 2629, u'create': 737, u'secret': 2922, u'meeting': 2013, u'gay': 1321, u'gas': 1318, u'gap': 1315, u'ansary': 132, u'understand': 3511, u'whitney': 3681, u'malarky': 1965, u'evangelical': 1070, u'politician': 2463, u'talking': 3289, u'solid': 3084, u'bill': 330, u'replaced': 2726, u'fun': 1294, u'century': 527, u'cents': 526, u'itself': 1704, u'italy': 1700, u'yesterday': 3773, u'husbands': 1581, u'moment': 2088, u'purpose': 2603, u'koch': 1780, u'hows': 1564, u'percentages': 2380, u'spent': 3129, u'flags': 1215, u'spend': 3126, u'ceo': 528, u'lds': 1816, u'shape': 2981, u'dishonesty': 905, u'apple': 154, u'letting': 1845, u'cut': 769, u'cus': 768, u'pollster': 2471, u'hated': 1456, u'cuz': 773, u'source': 3112, u'snap': 3072, u'excited': 1093, u'hates': 1457, u'big': 326, u'matters': 1995, u'biz': 355, u'bit': 350, u'knock': 1774, u'follows': 1242, u'whos': 3687, u'surging': 3262, u'google': 1367, u'often': 2264, u'extremism': 1119, u'back': 236, u'insincere': 1654, u'mirror': 2059, u'decision': 817, u'pew': 2394, u'per': 2377, u'bogus': 385, u'epic': 1056, u'either': 1011, u'lowinformation': 1931, u'ronpaul': 2840, u'use': 3549, u'crap': 733, u'between': 318, u'goods': 1366, u'usa': 3548, u'fem': 1175, u'prices': 2540, u'bankruptcy': 260, u'forward': 1264, u'opponent': 2291, u'invite': 1685, u'boys': 408, u'newsmax': 2183, u'gallup': 1311, u'hopes': 1549, u'planet': 2428, u'factsmatter': 1129, u'constant': 678, u'stripped': 3212, u'single': 3032, u'clever': 600, u'theyll': 3349, u'explaining': 1109, u'favourite': 1160, u'obrien': 2240, u'beeson': 292, u'failures': 1134, u'hint': 1510, u'pioneer': 2417, u'helps': 1485, u'putting': 2610, u'accuse': 21, u'severely': 2969, u'respectful': 2748, u'havent': 1461, u'bleeding': 365, u'depression': 850, u'chicago': 561, u'giving': 1345, u'access': 14, u'body': 383, u'others': 2302, u'remark': 2715, u'talent': 3285, u'implement': 1622, u'honor': 1542, u'named': 2154, u'presidents': 2532, u'private': 2546, u'scandal': 2893, u'hammered': 1433, u'nobel': 2198, u'themselves': 3339, u'trail': 3433, u'train': 3434, u'ashamed': 185, u'iii': 1601, u'unreal': 3531, u'praise': 2502, u'closing': 607, u'didnt': 876, u'holds': 1530, u'sir': 3033, u'lmfaoo': 1891, u'bind': 338, u'sit': 3035, u'romneyfacts': 2817, u'chief': 563, u'mrromney': 2123, u'furious': 1300, u'la': 1784, u'll': 1888, u'labor': 1786, u'lv': 1939, u'lt': 1935, u'blatant': 363, u'criminal': 750, u'dad': 775, u'dam': 779, u'spell': 3125, u'dat': 786, u'mention': 2020, u'cutting': 772, u'day': 791, u'sketchydeal': 3042, u'morris': 2110, u'apologize': 149, u'salesman': 2878, u'matt': 1993, u'disgusts': 902, u'rev': 2767, u'math': 1991, u'scumbag': 2916, u'interaction': 1664, u'yard': 3765, u'south': 3113, u'reliable': 2711, u'myths': 2145, u'sadly': 2874, u'realistically': 2662, u'messina': 2028, u'benghazi': 311, u'voteobama': 3587, u'nobody': 2199, u'decisive': 819, u'loved': 1926, u'bubble': 438, u'victoryrnc': 3570, u'loves': 1927, u'comfortable': 632, u'tide': 3383, u'unlikely': 3527, u'have': 1460, u'throat': 3372, u'apparently': 151, u'mil': 2042, u'mic': 2035, u'mit': 2072, u'unless': 3525, u'agenda': 67, u'disrespecting': 911, u'gather': 1319, u'absurd': 10, u'normally': 2210, u'supported': 3249, u'staff': 3140, u'satan': 2883, u'communist': 641, u'beat': 283, u'kochs': 1781, u'calling': 476, u'national': 2158, u'maddow': 1947, u'reform': 2691, u'willing': 3696, u'empathy': 1029, u'buster': 461, u'hofstradebate': 1528, u'taking': 3284, u'equal': 1057, u'moderators': 2085, u'busted': 460, u'politicizing': 2465, u'comment': 634, u'relevant': 2710, u'laugh': 1804, u'af': 54, u'pppdaily': 2498, u'devoting': 871, u'curtain': 767, u'ak': 81, u'finished': 1201, u'bull': 445, u'presidentialdebate': 2530, u'homes': 1536, u'plain': 2424, u'nd': 2166, u'appearance': 152, u'as': 184, u'promotes': 2571, u'likable': 1863, u'almost': 94, u'helped': 1482, u'claimed': 589, u'nclb': 2164, u'administration': 42, u'selfish': 2939, u'reporting': 2733, u'fucker': 1287, u'fucked': 1286, u'giuliani': 1341, u'retard': 2759, u'center': 524, u'thought': 3363, u'oops': 2283, u'position': 2483, u'latest': 1800, u'executive': 1098, u'domestic': 927, u'ads': 46, u'mathematically': 1992, u'add': 36, u'forbes': 1249, u'smart': 3064, u'worlds': 3739, u'testy': 3327, u'fyi': 1303, u'like': 1864, u'success': 3232, u'admitted': 45, u'lose': 1916, u'chick': 562, u'works': 3737, u'cantaffordmore': 497, u'proper': 2574, u'happens': 1446, u'screwed': 2913, u'although': 101, u'panel': 2332, u'about': 6, u'actual': 33, u'introduced': 1677, u'preexisting': 2516, u'billions': 334, u'doesnt': 919, u'female': 1176, u'kinda': 1767, u'biggest': 328, u'buy': 466, u'bus': 454, u'but': 463, u'flip': 1221, u'minutes': 2058, u'supreme': 3257, u'pic': 2403, u'romney': 2805, u'pig': 2411, u'ambassadors': 108, u'claiming': 590, u'detail': 865, u'bundle': 450, u'christians': 577, u'goin': 1357, u'justsayin': 1742, u'sleep': 3052, u'hating': 1458, u'nwo': 2227, u'hate': 1455, u'poorly': 2476, u'replacements': 2728, u'paris': 2339, u'tweet': 3480, u'romneylike': 2824, u'under': 3509, u'rise': 2791, u'lololol': 1899, u'every': 1075, u'school': 2905, u'supports': 3253, u'enjoy': 1049, u'consistent': 676, u'direct': 887, u'nail': 2149, u'doubt': 943, u'writing': 3753, u'blue': 377, u'hide': 1496, u'selected': 2937, u'children': 566, u'conduct': 660, u'seeks': 2930, u'kicked': 1756, u'governorship': 1378, u'hundreds': 1576, u'path': 2355, u'growing': 1402, u'waronwomen': 3626, u'leaves': 1830, u'tv': 3478, u'changes': 540, u'york': 3777, u'figure': 1185, u'cheney': 560, u'pointblankperiod': 2452, u'actions': 29, u'philip': 2396, u'would': 3746, u'afghanistan': 57, u'slaughtered': 3048, u'naive': 2151, u'phony': 2399, u'phone': 2397, u'must': 2137, u'shoot': 3000, u'mf': 2034, u'join': 1729, u'mm': 2080, u'mt': 2129, u'ms': 2125, u'mr': 2121, u'my': 2141, u'estate': 1066, u'times': 3391, u'guarantee': 1407, u'end': 1037, u'accusations': 20, u'pokes': 2456, u'description': 855, u'mess': 2026, u'executed': 1097, u'over': 2315, u'hofdebate': 1526, u'ima': 1612, u'expectations': 1102, u'imo': 1621, u'nyts': 2232, u'iowa': 1686, u'alex': 87, u'pbs': 2367, u'chuck': 578, u'detroit': 869, u'wiright': 3707, u'explode': 1112, u'victory': 3569, u'each': 980, u'diane': 873, u'group': 1399, u'dispiriting': 908, u'gon': 1360, u'driving': 964, u'quality': 2612, u'nite': 2195, u'got': 1369, u'gov': 1372, u'swell': 3270, u'arizona': 173, u'free': 1276, u'terribleadvice': 3320, u'souljah': 3107, u'wanted': 3618, u'days': 792, u'priorities': 2544, u'onto': 2282, u'rand': 2637, u'hearing': 1472, u'rant': 2640, u'flipflopper': 1223, u'sarcasm': 2881, u'top': 3411, u'scrutiny': 2915, u'too': 3408, u'tom': 3402, u'percentage': 2379, u'tool': 3410, u'serve': 2961, u'took': 3409, u'flimflam': 1220, u'nonpartisan': 2203, u'immigrants': 1619, u'classes': 593, u'pell': 2370, u'stacey': 3138, u'bridge': 419, u'fashion': 1149, u'ran': 2636, u'raw': 2650, u'rap': 2641, u'luntz': 1938, u'laughed': 1805, u'though': 3362, u'plenty': 2443, u'nonprofits': 2204, u'dads': 777, u'inaccuracies': 1629, u'random': 2638, u'colors': 626, u'radio': 2628, u'solutions': 3087, u'earth': 987, u'bain': 243, u'photo': 2400, u'oct': 2246, u'watch': 3636, u'criticized': 752, u'despite': 860, u'report': 2729, u'countries': 720, u'spokesperson': 3133, u'idiotic': 1591, u'twice': 3485, u'shots': 3004, u'nut': 2225, u'resist': 2744, u'disturbing': 912, u'noodles': 2206, u'finger': 1199, u'hopefully': 1548, u'fivepoint': 1209, u'approach': 159, u'weak': 3644, u'however': 1563, u'boss': 398, u'wear': 3648, u'news': 2182, u'improve': 1627, u'protect': 2578, u'fault': 1155, u'games': 1313, u'faces': 1124, u'sullivan': 3244, u'trust': 3457, u'hitler': 1519, u'conference': 661, u'been': 290, u'quickly': 2616, u'confident': 662, u'beer': 291, u'expected': 1103, u'drugs': 968, u'republicans': 2741, u'cracker': 732, u'lesser': 1840, u'teachers': 3302, u'runaround': 2863, u'experts': 1106, u'brutal': 435, u'photoset': 2401, u'social': 3078, u'microphone': 2038, u'mentioning': 2022, u'greatest': 1390, u'mother': 2112, u'proposed': 2576, u'unemployment': 3515, u'thumbs': 3380, u'humanity': 1573, u'gave': 1320, u'actresses': 31, u'bands': 257, u'breaks': 417, u'vulture': 3599, u'gift': 1336, u'specific': 3120, u'hung': 1577, u'stereotype': 3179, u'dishonest': 904, u'jennifer': 1715, u'donald': 930, u'election': 1015, u'cooper': 701, u'ice': 1584, u'everything': 1079, u'cnn': 613, u'core': 704, u'deleted': 837, u'corp': 705, u'attacks': 210, u'plum': 2446, u'choke': 572, u'trustworthy': 3460, u'dinner': 886, u'misleading': 2062, u'efforts': 1009, u'civil': 587, u'ppl': 2496, u'ppp': 2497, u'tribune': 3446, u'gallery': 1309, u'anderson': 121, u'purposely': 2604, u'head': 1464, u'deny': 847, u'heat': 1474, u'hear': 1470, u'povertybut': 2493, u'perez': 2381, u'annoying': 129, u'check': 554, u'blatantly': 364, u'looked': 1907, u'no': 2196, u'na': 2147, u'commercials': 638, u'nc': 2163, u'sensatas': 2951, u'ny': 2228, u'setting': 2965, u'papers': 2335, u'tie': 3384, u'endorsers': 1044, u'younger': 3782, u'apologizing': 150, u'longer': 1903, u'vietnam': 3572, u'serious': 2958, u'ron': 2839, u'impression': 1626, u'rob': 2795, u'focus': 1234, u'leads': 1821, u'ucwradio': 3498, u'environment': 1055, u'charge': 544, u'promoting': 2572, u'hammers': 1434, u'advantage': 47, u'cook': 698, u'bodyguard': 384, u'cool': 700, u'lohan': 1897, u'level': 1846, u'brother': 431, u'quick': 2615, u'yall': 3763, u'says': 2890, u'trend': 3443, u'voucher': 3595, u'stands': 3149, u'goes': 1356, u'water': 3639, u'groups': 1400, u'weird': 3658, u'morals': 2098, u'msm': 2126, u'iphone': 1687, u'prez': 2537, u'prep': 2521, u'today': 3397, u'endorsing': 1046, u'kerry': 1753, u'riot': 2787, u'clicking': 602, u'cases': 513, u'thousands': 3365, u'trump': 3456, u'downfall': 948, u'millionaires': 2047, u'rubio': 2856, u'endorsement': 1042, u'plus': 2447, u'speaks': 3118, u'unbelievable': 3504, u'awkward': 230, u'invests': 1683, u'increase': 1636, u'food': 1243, u'constituents': 679, u'leaners': 1823, u'wallace': 3614, u'platform': 2434, u'continue': 684, u'ponzi': 2472, u'happened': 1444, u'lonely': 1901, u'moms': 2090, u'qualified': 2611, u'term': 3317, u'equality': 1058, u'name': 2153, u'debating': 807, u'donated': 932, u'populated': 2479, u'catching': 515, u'authenticity': 218, u'obsession': 2242, u'profit': 2562, u'factory': 1127, u'cancels': 489, u'eagle': 981, u'teambarack': 3304, u'nbcpolitics': 2162, u'yup': 3792, u'turn': 3474, u'place': 2422, u'swing': 3272, u'childhood': 565, u'coming': 633, u'george': 1330, u'millions': 2048, u'given': 1343, u'ian': 1583, u'stuck': 3218, u'trillion': 3449, u'europe': 1068, u'plastic': 2433, u'returns': 2763, u'terrifying': 3323, u'puppet': 2598, u'convention': 694, u'white': 3679, u'africanamericans': 60, u'gives': 1344, u'releases': 2708, u'released': 2707, u'population': 2480, u'wide': 3691, u'lmao': 1889, u'officials': 2262, u'tweeting': 3482, u'and': 120, u'twisting': 3488, u'ann': 126, u'tanning': 3292, u'any': 142, u'romneywins': 2835, u'ideas': 1588, u'primaries': 2541, u'blunt': 379, u'urge': 3546, u'hoover': 1545, u'multiple': 2131, u'falls': 1140, u'closet': 606, u'proud': 2582, u'uncle': 3505, u'senior': 2948, u'feminist': 1178, u'cheap': 550, u'genius': 1327, u'state': 3159, u'crime': 749, u'narrows': 2156, u'mormon': 2103, u'reveal': 2768, u'obliterate': 2238, u'naked': 2152, u'jokes': 1732, u'itz': 1705, u'pants': 2333, u'discussing': 897, u'college': 623, u'ignores': 1600, u'exam': 1089, u'fails': 1133, u'ways': 3641, u'review': 2772, u'opening': 2287, u'outsourcing': 2312, u'weapons': 3647, u'outside': 2309, u'wouldve': 3749, u'come': 628, u'libya': 1852, u'goodbye': 1364, u'quiet': 2617, u'contract': 688, u'briefing': 420, u'columnist': 627, u'senator': 2944, u'duty': 978, u'pot': 2490, u'period': 2385, u'pop': 2477, u'pundits': 2596, u'poll': 2468, u'turkey': 3473, u'howard': 1562, u'billionaires': 333, u'featuring': 1164, u'hardly': 1450, u'andrew': 122, u'bindersfullofwomen': 342, u'paying': 2364, u'myself': 2142, u'career': 507, u'good': 1363, u'party': 2347, u'reminded': 2718, u'trip': 3450, u'buys': 468, u'reminder': 2719, u'week': 3655, u'nh': 2187, u'driver': 962, u'drives': 963, u'weed': 3654, u'director': 889, u'unqualified': 3529, u'changing': 541, u'pennsylvania': 2372, u'magical': 1951, u'without': 3714, u'model': 2082, u'when': 3671, u'kill': 1760, u'blow': 374, u'rose': 2846, u'seems': 2933, u'except': 1092, u'complain': 647, u'blog': 372, u'lets': 1842, u'interested': 1667, u'ross': 2848, u'kills': 1765, u'kennedy': 1751, u'patrick': 2359, u'muthafuckas': 2139, u'shrink': 3012, u'donations': 933, u'tower': 3423, u'picture': 2407, u'table': 3275, u'douchebag': 945, u'slick': 3053, u'stops': 3197, u'provider': 2587, u'lmfao': 1890, u'polite': 2460, u'pastors': 2354, u'terrified': 3322, u'romneyto': 2831, u'on': 2276, u'ok': 2270, u'oh': 2265, u'of': 2250, u'medicare': 2011, u'stand': 3146, u'or': 2298, u'op': 2284, u'ladies': 1789, u'julysept': 1735, u'there': 3342, u'racism': 2624, u'racist': 2625, u'energy': 1048, u'catholics': 517, u'cabinet': 470, u'faster': 1151, u'applying': 157, u'bipartisanship': 344, u'grass': 1386, u'connect': 668, u'politico': 2466, u'taste': 3293, u'mormons': 2105, u'cbs': 521, u'britain': 426, u'governed': 1373, u'pushing': 2607, u'spends': 3128, u'hit': 1518, u'hasnt': 1454, u'idiot': 1590, u'deserve': 856, u'romneycancels': 2812, u'may': 1998, u'contradicted': 689, u'governer': 1374, u'stocks': 3189, u'calls': 477, u'wife': 3693, u'invest': 1678, u'missouri': 2070, u'all': 89, u'chinese': 569, u'lack': 1787, u'follow': 1238, u'pts': 2589, u'hmmm': 1522, u'catastrophe': 514, u'wassup': 3634, u'program': 2564, u'present': 2525, u'subsides': 3230, u'longtime': 1905, u'woman': 3720, u'worse': 3742, u'chameleon': 535, u'far': 1148, u'fat': 1152, u'roe': 2799, u'sons': 3099, u'fan': 1145, u'awful': 229, u'ticket': 3382, u'list': 1880, u'liars': 1849, u'ten': 3314, u'ted': 3310, u'rate': 2645, u'nbc': 2161, u'speculator': 3122, u'what': 3668, u'deeply': 827, u'sum': 3245, u'version': 3559, u'guns': 1414, u'morman': 2101, u'christian': 576, u'tagg': 3278, u'rakes': 2633, u'options': 2297, u'irritate': 1693, u'shits': 2995, u'unthinkable': 3532, u'flat': 1216, u'israel': 1696, u'knows': 1778, u'flag': 1214, u'stick': 3182, u'known': 1777, u'glad': 1346, u'debater': 805, u'debates': 806, u'romneywill': 2833, u'embarrassing': 1028, u'prisons': 2545, u'court': 725, u'goal': 1352, u'rather': 2647, u'breaking': 416, u'explains': 1110, u'shouldnt': 3006, u'okay': 2271, u'reflect': 2689, u'short': 3002, u'shady': 2976, u'shore': 3001, u'shade': 2975, u'townhallquestions': 3427, u'september': 2955, u'mission': 2068, u'cross': 754, u'disabled': 893, u'isnt': 1695, u'milwaukee': 2049, u'style': 3227, u'slipped': 3056, u'pray': 2503, u'resort': 2745, u'parts': 2346, u'stephen': 3176, u'bout': 405, u'might': 2041, u'somebody': 3090, u'woulda': 3747, u'bigger': 327, u'man': 1966, u'difficult': 883, u'generation': 1325, u'expect': 1101, u'health': 1468, u'hill': 1505, u'benjamin': 312, u'wisconsin': 3708, u'friday': 1279, u'guess': 1409, u'teach': 3300, u'thrown': 3377, u'threat': 3366, u'solidly': 3085, u'feed': 1167, u'twoface': 3491, u'feel': 1168, u'threatening': 3368, u'feet': 1172, u'slower': 3059, u'story': 3201, u'leading': 1820, u'porn': 2481, u'hangs': 1441, u'passed': 2349, u'store': 3199, u'option': 2296, u'convinced': 697, u'king': 1768, u'kind': 1766, u'double': 940, u'aims': 78, u'illegals': 1606, u'alike': 88, u'binderfullofwomen': 340, u'nights': 2194, u'eff': 1005, u'electric': 1018, u'park': 2340, u'reach': 2653, u'react': 2654, u'nothing': 2215, u'windows': 3701, u'lying': 1942, u'stfu': 3181, u'nobama': 2197, u'viagra': 3566, u'sure': 3258, u'his': 1514, u'gains': 1308, u'banning': 264, u'relentless': 2709, u'art': 180, u'defense': 831, u'bare': 268, u'are': 165, u'declined': 821, u'definitely': 834, u'threats': 3369, u'nailed': 2150, u'unions': 3521, u'various': 3557, u'birds': 346, u'recently': 2677, u'sold': 3083, u'attention': 212, u'became': 285, u'finds': 1197, u'reasons': 2670, u'perot': 2386, u'pt': 2588, u'political': 2461, u'due': 972, u'appears': 153, u'pb': 2366, u'pa': 2323, u'whoa': 3684, u'pm': 2449, u'buck': 439, u'demand': 839, u'tries': 3448, u'theres': 3345, u'leans': 1825, u'rid': 2779, u'aged': 66, u'peoples': 2375, u'waystogetshot': 3642, u'higher': 1500, u'moving': 2120, u'wheres': 3674, u'lower': 1929, u'noodle': 2205, u'anybody': 143, u'analysis': 119, u'edge': 1000, u'stating': 3164, u'throwaway': 3375, u'halperin': 1431, u'questions': 2614, u'advisers': 51, u'workers': 3734, u'likeable': 1865, u'libyan': 1853, u'ignore': 1599, u'fucking': 1289, u'asses': 196, u'uppercut': 3543, u'candy': 494, u'anne': 127, u'prob': 2550, u'von': 3584, u'roundup': 2850, u'hatred': 1459, u'womens': 3722, u'wanna': 3616, u'nigga': 2190, u'question': 2613, u'long': 1902, u'files': 1187, u'tshirts': 3468, u'raising': 2632, u'pres': 2524, u'called': 474, u'warning': 3624, u'rally': 2634, u'graham': 1382, u'independents': 1643, u'grp': 1404, u'peace': 2369, u'backs': 239, u'income': 1634, u'nice': 2188, u'problems': 2553, u'helping': 1484, u'meaning': 2004, u'allowing': 93, u'vice': 3567, u'intentional': 1663, u'once': 2277, u'steve': 3180, u'issues': 1698, u'itll': 1702, u'include': 1631, u'mainstream': 1955, u'repub': 2738, u'slogan': 3057, u'drinking': 961, u'notes': 2214, u'murdoch': 2135, u'polling': 2469, u'outdo': 2306, u'concluded': 656, u'checkers': 556, u'fine': 1198, u'waiting': 3605, u'degree': 836, u'sexy': 2974, u'leaving': 1831, u'bickers': 323, u'nydebate': 2230, u'apply': 156, u'fed': 1165, u'from': 1282, u'romneyryan': 2826, u'few': 1179, u'scariest': 2897, u'journalists': 1734, u'sore': 3103, u'women': 3721, u'disingenuous': 906, u'proof': 2573, u'tax': 3294, u'something': 3094, u'serial': 2956, u'counterfeit': 717, u'united': 3523, u'six': 3039, u'fortunate': 1262, u'instead': 1656, u'hahahaha': 1425, u'light': 1860, u'interrupted': 1672, u'honestly': 1540, u'looks': 1910, u'ships': 2992, u'tyler': 3494, u'choose': 573, u'covered': 727, u'crowds': 756, u'practice': 2500, u'zogby': 3794, u'republican': 2740, u'fled': 1218, u'articles': 182, u'billy': 336, u'bills': 335, u'related': 2704, u'our': 2304, u'out': 2305, u'radical': 2627, u'maintains': 1957, u'reporters': 2732, u'twat': 3479, u'heroes': 1490, u'rasmussen': 2644, u'their': 3337, u'misinformed': 2061, u'shell': 2985, u'blind': 367, u'boring': 394, u'richer': 2777, u'linked': 1878, u'catholic': 516, u'afraid': 58, u'which': 3676, u'asshole': 198, u'whn': 3682, u'who': 3683, u'wht': 3689, u'why': 3690, u'copols': 702, u'goals': 1353, u'latinos': 1802, u'chances': 537, u'please': 2441, u'agreed': 71, u'purely': 2602, u'planning': 2430, u'democrats': 842, u'fear': 1163, u'eyes': 1121, u'debate': 804, u'ha': 1419, u'candidates': 493, u'local': 1894, u'watching': 3638, u'dope': 939, u'ones': 2279, u'words': 3729, u'chips': 570, u'ghetto': 1334, u'donate': 931, u'brain': 411, u'deceiver': 811, u'married': 1982, u'view': 3573, u'knowing': 1776, u'closer': 605, u'favor': 1157, u'mexicans': 2032, u'pisses': 2420, u'stories': 3200, u'bought': 402, u'job': 1723, u'takeover': 3282, u'joe': 1725, u'april': 164, u'atleast': 206, u'wall': 3613, u'walk': 3608, u'wiunion': 3715, u'respect': 2747, u'lyin': 1941, u'decent': 813, u'offers': 2258, u'painted': 2329, u'interrupts': 1674, u'crappy': 734, u'hmm': 1521, u'stockman': 3188, u'reverse': 2771, u'unlike': 3526, u'will': 3694, u'thus': 3381, u'perhaps': 2384, u'unite': 3522, u'member': 2016, u'myvoteismade': 2146, u'gets': 1332, u'slave': 3049, u'disagree': 894, u'beast': 282, u'student': 3219, u'oddsmaker': 2249, u'warming': 3623, u'whole': 3686, u'fighting': 1184, u'percent': 2378, u'wealthy': 3646, u'tcc': 3298, u'meromney': 2025, u'book': 390, u'attractive': 215, u'myth': 2144, u'asshatsabide': 197, u'press': 2533, u'teamobamabiden': 3306, u'racists': 2626, u'helpful': 1483, u'loser': 1917, u'loses': 1918, u'taxpayers': 3296, u'because': 286, u'scared': 2895, u'tumblr': 3472, u'growth': 1403, u'scares': 2896, u'jeremy': 1716, u'lead': 1817, u'planand': 2426, u'leader': 1818, u'murderer': 2134, u'tenure': 3316, u'mitt': 2073, u'postdebate': 2489, u'murdered': 2133, u'analyses': 118, u'stay': 3165, u'unmasking': 3528, u'getting': 1333, u'shipping': 2991, u'surge': 3260, u'swear': 3269, u'romneyhood': 2821, u'emperor': 1030, u'own': 2319, u'owe': 2318, u'promise': 2567, u'registration': 2698, u'forget': 1256, u'ows': 2322, u'significantly': 3024, u'kidding': 1758, u'intention': 1662, u'funds': 1298, u'bitches': 352, u'made': 1948, u'tactics': 3277, u'whether': 3675, u'protesting': 2581, u'record': 2680, u'schemelinked': 2904, u'rightwing': 2785, u'ew': 1086, u'incredible': 1639, u'illinois': 1608, u'other': 2301, u'boom': 392, u'mittromney': 2076, u'conclusion': 657, u'volumes': 3582, u'june': 1737, u'ceos': 529}\n"
     ]
    }
   ],
   "source": [
    "vocab= text_clf.named_steps['vect'].vocabulary_\n",
    "print vocab"
   ]
  },
  {
   "cell_type": "code",
   "execution_count": 9,
   "metadata": {},
   "outputs": [
    {
     "name": "stdout",
     "output_type": "stream",
     "text": [
      "hi how r u\n"
     ]
    }
   ],
   "source": [
    "a = \"hi\"\n",
    "b = \"how r u\"\n",
    "\n",
    "print a,b"
   ]
  },
  {
   "cell_type": "code",
   "execution_count": null,
   "metadata": {},
   "outputs": [],
   "source": []
  },
  {
   "cell_type": "code",
   "execution_count": null,
   "metadata": {},
   "outputs": [],
   "source": []
  },
  {
   "cell_type": "code",
   "execution_count": null,
   "metadata": {},
   "outputs": [],
   "source": [
    "\n"
   ]
  },
  {
   "cell_type": "code",
   "execution_count": null,
   "metadata": {
    "collapsed": true
   },
   "outputs": [],
   "source": []
  },
  {
   "cell_type": "code",
   "execution_count": null,
   "metadata": {
    "collapsed": true
   },
   "outputs": [],
   "source": []
  },
  {
   "cell_type": "code",
   "execution_count": null,
   "metadata": {},
   "outputs": [],
   "source": []
  },
  {
   "cell_type": "code",
   "execution_count": null,
   "metadata": {
    "scrolled": true
   },
   "outputs": [],
   "source": []
  },
  {
   "cell_type": "code",
   "execution_count": null,
   "metadata": {},
   "outputs": [],
   "source": [
    "\n"
   ]
  },
  {
   "cell_type": "code",
   "execution_count": null,
   "metadata": {},
   "outputs": [],
   "source": []
  },
  {
   "cell_type": "code",
   "execution_count": null,
   "metadata": {},
   "outputs": [],
   "source": []
  },
  {
   "cell_type": "code",
   "execution_count": null,
   "metadata": {},
   "outputs": [],
   "source": []
  },
  {
   "cell_type": "code",
   "execution_count": null,
   "metadata": {},
   "outputs": [],
   "source": []
  },
  {
   "cell_type": "code",
   "execution_count": null,
   "metadata": {},
   "outputs": [],
   "source": []
  },
  {
   "cell_type": "code",
   "execution_count": null,
   "metadata": {},
   "outputs": [],
   "source": []
  },
  {
   "cell_type": "code",
   "execution_count": null,
   "metadata": {},
   "outputs": [],
   "source": []
  },
  {
   "cell_type": "code",
   "execution_count": null,
   "metadata": {},
   "outputs": [],
   "source": []
  },
  {
   "cell_type": "code",
   "execution_count": null,
   "metadata": {
    "collapsed": true
   },
   "outputs": [],
   "source": []
  },
  {
   "cell_type": "code",
   "execution_count": null,
   "metadata": {
    "collapsed": true
   },
   "outputs": [],
   "source": []
  },
  {
   "cell_type": "code",
   "execution_count": null,
   "metadata": {
    "collapsed": true
   },
   "outputs": [],
   "source": []
  },
  {
   "cell_type": "code",
   "execution_count": null,
   "metadata": {
    "collapsed": true
   },
   "outputs": [],
   "source": []
  }
 ],
 "metadata": {
  "kernelspec": {
   "display_name": "Python 2",
   "language": "python",
   "name": "python2"
  },
  "language_info": {
   "codemirror_mode": {
    "name": "ipython",
    "version": 2
   },
   "file_extension": ".py",
   "mimetype": "text/x-python",
   "name": "python",
   "nbconvert_exporter": "python",
   "pygments_lexer": "ipython2",
   "version": "2.7.14"
  }
 },
 "nbformat": 4,
 "nbformat_minor": 2
}
